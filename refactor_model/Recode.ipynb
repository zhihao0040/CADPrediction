{
 "cells": [
  {
   "cell_type": "markdown",
   "metadata": {},
   "source": [
    "# Prepocessing"
   ]
  },
  {
   "cell_type": "markdown",
   "metadata": {},
   "source": [
    "## import module\n"
   ]
  },
  {
   "cell_type": "code",
   "execution_count": 1,
   "metadata": {
    "ExecuteTime": {
     "end_time": "2020-10-20T10:58:45.895803Z",
     "start_time": "2020-10-20T10:58:44.635787Z"
    }
   },
   "outputs": [
    {
     "name": "stdout",
     "output_type": "stream",
     "text": [
      "['id', 'ccf', 'age', 'sex', 'painloc', 'painexer', 'relrest', 'pncaden', 'cp', 'trestbps', 'htn', 'chol', 'smoke', 'cigs', 'years', 'fbs', 'dm', 'famhist', 'restecg', 'ekgmo', 'ekgday', 'ekgyr', 'dig', 'prop', 'nitr', 'pro', 'diuretic', 'proto', 'thaldur', 'thaltime', 'met', 'thalach', 'thalrest', 'tpeakbps', 'tpeakbpd', 'dummy', 'trestbpd', 'exang', 'xhypo', 'oldpeak', 'slope', 'rldv5', 'rldv5e', 'ca', 'restckm', 'exerckm', 'restef', 'restwm', 'exeref', 'exerwm', 'thal', 'thalsev', 'thalpul', 'earlobe', 'cmo', 'cday', 'cyr', 'num', 'lmt', 'ladprox', 'laddist', 'diag', 'cxmain', 'ramus', 'om1', 'om2', 'rcaprox', 'rcadist', 'lvx1', 'lvx2', 'lvx3', 'lvx4', 'lvf', 'cathef', 'junk']\n"
     ]
    }
   ],
   "source": [
    "import pandas as pd # we are changing num to 0 and 1's cuz we only care if you are going to have a \n",
    "import numpy as np # CAD not what type it is. # target, 0, 1\n",
    "from pandas import read_excel\n",
    "from numpy import set_printoptions\n",
    "from sklearn.feature_selection import SelectKBest\n",
    "from sklearn.feature_selection import f_classif\n",
    "from sklearn.feature_selection import f_regression\n",
    "from sklearn.feature_selection import chi2\n",
    "from sklearn.feature_selection import mutual_info_regression\n",
    "from sklearn.feature_selection import mutual_info_classif\n",
    "from sklearn.feature_selection import VarianceThreshold\n",
    "from sklearn import preprocessing\n",
    "from sklearn.model_selection import KFold\n",
    "from sklearn.svm import SVC\n",
    "from sklearn.metrics import accuracy_score\n",
    "import seaborn as sns\n",
    "import matplotlib.pyplot as plt\n",
    "import functools\n",
    "from sklearn.ensemble import BaggingClassifier\n",
    "import pickle\n",
    "\n",
    "from sklearn.discriminant_analysis import LinearDiscriminantAnalysis\n",
    "from sklearn.neighbors import KNeighborsClassifier\n",
    "\n",
    "\n",
    "K = 13 # the number of features to be selected by each algorithm\n",
    "# code obtained from https://scikit-learn.org/stable/modules/feature_selection.html## \n",
    "f = open(\"columnNamesUCI.txt\", \"r\")\n",
    "file_str = f.read()\n",
    "f.close()\n",
    "\n",
    "names = file_str.split(\"\\n\")\n",
    "print(names)"
   ]
  },
  {
   "cell_type": "markdown",
   "metadata": {},
   "source": [
    "## Ready the file and print"
   ]
  },
  {
   "cell_type": "code",
   "execution_count": 2,
   "metadata": {
    "ExecuteTime": {
     "end_time": "2020-10-20T10:58:47.684063Z",
     "start_time": "2020-10-20T10:58:47.407935Z"
    }
   },
   "outputs": [
    {
     "name": "stdout",
     "output_type": "stream",
     "text": [
      "      id  ccf  age  sex  painloc  painexer  relrest  pncaden  cp  trestbps  \\\n",
      "0      1    0   63    1       -9        -9       -9       -9   1       145   \n",
      "1      2    0   67    1       -9        -9       -9       -9   4       160   \n",
      "2      3    0   67    1       -9        -9       -9       -9   4       120   \n",
      "3      4    0   37    1       -9        -9       -9       -9   3       130   \n",
      "4      6    0   41    0       -9        -9       -9       -9   2       130   \n",
      "..   ...  ...  ...  ...      ...       ...      ...      ...  ..       ...   \n",
      "277  294    0   39    0       -9        -9       -9       -9   3       138   \n",
      "278  295    0   57    1       -9        -9       -9       -9   2       154   \n",
      "279  296    0   58    0       -9        -9       -9       -9   4       130   \n",
      "280  297    0   57    1       -9        -9       -9       -9   4       110   \n",
      "281  298    0   47    1       -9        -9       -9       -9   3       130   \n",
      "\n",
      "     ...  om2  rcaprox  rcadist  lvx1  lvx2  lvx3  lvx4  lvf  cathef  junk  \n",
      "0    ...   -9        1        1     1     1     1     1    1      -9    -9  \n",
      "1    ...   -9        1        1     1     1     1     1    1      -9    -9  \n",
      "2    ...   -9        2        2     1     1     1     7    3      -9    -9  \n",
      "3    ...   -9        1        1     1     1     1     1    1      -9    -9  \n",
      "4    ...   -9        1        1     1     1     1     1    1      -9    -9  \n",
      "..   ...  ...      ...      ...   ...   ...   ...   ...  ...     ...   ...  \n",
      "277  ...   -9        1        1     1     1     1     1    2      -9    -9  \n",
      "278  ...   -9        1        1     1     1     1     1    1      -9    -9  \n",
      "279  ...   -9        1        1     1     1     1     1    1      -9    -9  \n",
      "280  ...   -9        1        2     1     1     1     1    1      -9    -9  \n",
      "281  ...   -9        1        1     1     1     1     1    1      -9    -9  \n",
      "\n",
      "[282 rows x 75 columns]\n",
      "\n",
      "\n",
      "The result column is: \n",
      "\n",
      " 0      0\n",
      "1      2\n",
      "2      1\n",
      "3      0\n",
      "4      0\n",
      "      ..\n",
      "277    0\n",
      "278    1\n",
      "279    0\n",
      "280    2\n",
      "281    0\n",
      "Name: num, Length: 282, dtype: int64\n"
     ]
    }
   ],
   "source": [
    "fname = \"updated_cleveland.data.xlsx\"\n",
    "dataframe = read_excel(fname, header = None, names=names)\n",
    "print(dataframe)\n",
    "print(\"\\n\\nThe result column is: \\n\\n\",dataframe.num)"
   ]
  },
  {
   "cell_type": "markdown",
   "metadata": {},
   "source": [
    "## Deal with the empty cell"
   ]
  },
  {
   "cell_type": "code",
   "execution_count": 3,
   "metadata": {
    "ExecuteTime": {
     "end_time": "2020-10-20T10:58:51.438789Z",
     "start_time": "2020-10-20T10:58:49.405374Z"
    },
    "code_folding": []
   },
   "outputs": [
    {
     "name": "stdout",
     "output_type": "stream",
     "text": [
      "The table after dealing with empty cell\n",
      "\n",
      "g       id  ccf  age  sex  cp  trestbps  htn  chol  cigs  years  ...  laddist  \\\n",
      "0      1    0   63    1   1       145    1   233  50.0   20.0  ...        1   \n",
      "1      2    0   67    1   4       160    1   286  40.0   40.0  ...        2   \n",
      "2      3    0   67    1   4       120    1   229  20.0   35.0  ...        1   \n",
      "3      4    0   37    1   3       130    0   250   0.0    0.0  ...        1   \n",
      "4      6    0   41    0   2       130    1   204   0.0    0.0  ...        1   \n",
      "..   ...  ...  ...  ...  ..       ...  ...   ...   ...    ...  ...      ...   \n",
      "277  294    0   39    0   3       138    1   220  20.0   23.0  ...        1   \n",
      "278  295    0   57    1   2       154    0   232  40.0   35.0  ...        1   \n",
      "279  296    0   58    0   4       130    1   197   0.0    0.0  ...        1   \n",
      "280  297    0   57    1   4       110    1   335  20.0   15.0  ...        1   \n",
      "281  298    0   47    1   3       130    1   253   0.0    0.0  ...        1   \n",
      "\n",
      "     cxmain  om1  rcaprox  rcadist  lvx1  lvx2  lvx3  lvx4  lvf  \n",
      "0         1    1        1        1     1     1     1     1    1  \n",
      "1         2    1        1        1     1     1     1     1    1  \n",
      "2         1    1        2        2     1     1     1     7    3  \n",
      "3         1    1        1        1     1     1     1     1    1  \n",
      "4         1    1        1        1     1     1     1     1    1  \n",
      "..      ...  ...      ...      ...   ...   ...   ...   ...  ...  \n",
      "277       1    1        1        1     1     1     1     1    2  \n",
      "278       2    1        1        1     1     1     1     1    1  \n",
      "279       1    1        1        1     1     1     1     1    1  \n",
      "280       1    2        1        2     1     1     1     1    1  \n",
      "281       1    1        1        1     1     1     1     1    1  \n",
      "\n",
      "[282 rows x 55 columns]\n"
     ]
    }
   ],
   "source": [
    "# fill empty cell with NaN\n",
    "for i in range(dataframe.shape[0]):\n",
    "    for column in dataframe.columns:\n",
    "        if dataframe.at[i, column] == -9:\n",
    "            dataframe.loc[i, column] = np.nan\n",
    "# we fill NaN value with the mean of the column containning NaN\n",
    "df = dataframe.fillna(dataframe.mean())\n",
    "# we drop the column that contains all NaN value\n",
    "df = df.dropna(axis=1,how='all')\n",
    "print(\"The table after dealing with empty cell\\n\\ng\",df)"
   ]
  },
  {
   "cell_type": "markdown",
   "metadata": {},
   "source": [
    "## Remove the column which less impact on the prediction"
   ]
  },
  {
   "cell_type": "code",
   "execution_count": 4,
   "metadata": {
    "ExecuteTime": {
     "end_time": "2020-10-20T10:58:53.146755Z",
     "start_time": "2020-10-20T10:58:53.127366Z"
    }
   },
   "outputs": [
    {
     "name": "stdout",
     "output_type": "stream",
     "text": [
      "Shape of the data after removing the unpredicted column (282, 46)\n",
      "Shape of the column after removing the low variance column (282, 28)\n"
     ]
    }
   ],
   "source": [
    "# we drop dummy column because it is trestbps column, the others is not used for prediction\n",
    "df = df.drop(['dummy', 'id', 'ekgyr', 'ekgday', 'ekgmo', 'ccf', 'cmo', 'cday', 'cyr'], axis=1)\n",
    "print(\"Shape of the data after removing the unpredicted column\",df.shape)\n",
    "myGenderColumn = df[\"sex\"]\n",
    "myExangColumn = df[\"exang\"]\n",
    "myFBSColumn = df[\"fbs\"]\n",
    "myResult = df[\"num\"]\n",
    "# take 4 important columns we don't want to be eliminate by variance thredshoud from the dataframe\n",
    "df = df.drop([\"sex\",\"exang\",\"fbs\",\"num\"],axis=1)\n",
    "# perform variance thredshold\n",
    "selector = VarianceThreshold(0.225)\n",
    "selector.fit(df)\n",
    "df= df[df.columns[selector.get_support()]]\n",
    "# add the 4 column back\n",
    "df = df.join(myExangColumn)\n",
    "df = df.join(myFBSColumn)\n",
    "df = df.join(myGenderColumn)\n",
    "df = df.join(myResult)\n",
    "print(\"Shape of the column after removing the low variance column\",df.shape)\n"
   ]
  },
  {
   "cell_type": "markdown",
   "metadata": {},
   "source": [
    "## normalize the data"
   ]
  },
  {
   "cell_type": "code",
   "execution_count": 5,
   "metadata": {
    "ExecuteTime": {
     "end_time": "2020-10-20T10:58:54.573977Z",
     "start_time": "2020-10-20T10:58:54.554777Z"
    }
   },
   "outputs": [
    {
     "name": "stdout",
     "output_type": "stream",
     "text": [
      "          age        cp  trestbps  htn      chol      cigs     years  famhist  \\\n",
      "0    0.708333  0.000000  0.481132  1.0  0.244292  0.505051  0.370370      1.0   \n",
      "1    0.791667  1.000000  0.622642  1.0  0.365297  0.404040  0.740741      1.0   \n",
      "2    0.791667  1.000000  0.245283  1.0  0.235160  0.202020  0.648148      1.0   \n",
      "3    0.166667  0.666667  0.339623  0.0  0.283105  0.000000  0.000000      1.0   \n",
      "4    0.250000  0.333333  0.339623  1.0  0.178082  0.000000  0.000000      1.0   \n",
      "..        ...       ...       ...  ...       ...       ...       ...      ...   \n",
      "277  0.208333  0.666667  0.415094  1.0  0.214612  0.202020  0.425926      0.0   \n",
      "278  0.583333  0.333333  0.566038  0.0  0.242009  0.404040  0.648148      1.0   \n",
      "279  0.604167  1.000000  0.339623  1.0  0.162100  0.000000  0.000000      1.0   \n",
      "280  0.583333  1.000000  0.150943  1.0  0.477169  0.202020  0.277778      1.0   \n",
      "281  0.375000  0.666667  0.339623  1.0  0.289954  0.000000  0.000000      1.0   \n",
      "\n",
      "     restecg   thaldur  ...  slope    rldv5e        ca  thal  lvx3      lvx4  \\\n",
      "0        1.0  0.659091  ...    1.0  0.601626  0.000000  0.75   0.0  0.000000   \n",
      "1        1.0  0.583333  ...    0.5  0.654472  1.000000  0.00   0.0  0.000000   \n",
      "2        1.0  0.507576  ...    0.5  0.512195  0.666667  1.00   0.0  0.857143   \n",
      "3        0.0  0.848485  ...    1.0  0.581301  0.000000  0.00   0.0  0.000000   \n",
      "4        1.0  0.393939  ...    0.0  0.065041  0.000000  0.00   0.0  0.000000   \n",
      "..       ...       ...  ...    ...       ...       ...   ...   ...       ...   \n",
      "277      0.0  0.416667  ...    0.5  0.556911  0.000000  0.00   0.0  0.000000   \n",
      "278      1.0  0.659091  ...    0.0  0.154472  0.333333  0.00   0.0  0.000000   \n",
      "279      0.0  0.431818  ...    0.5  0.284553  0.000000  0.00   0.0  0.000000   \n",
      "280      0.0  0.393939  ...    0.5  0.272358  0.333333  1.00   0.0  0.000000   \n",
      "281      0.0  0.583333  ...    0.0  0.126016  0.000000  0.00   0.0  0.000000   \n",
      "\n",
      "     exang  fbs  sex  num  \n",
      "0      0.0  1.0  1.0  0.0  \n",
      "1      1.0  0.0  1.0  1.0  \n",
      "2      1.0  0.0  1.0  1.0  \n",
      "3      0.0  0.0  1.0  0.0  \n",
      "4      0.0  0.0  0.0  0.0  \n",
      "..     ...  ...  ...  ...  \n",
      "277    0.0  0.0  0.0  0.0  \n",
      "278    0.0  0.0  1.0  1.0  \n",
      "279    0.0  0.0  0.0  0.0  \n",
      "280    1.0  0.0  1.0  1.0  \n",
      "281    0.0  0.0  1.0  0.0  \n",
      "\n",
      "[282 rows x 28 columns]\n"
     ]
    }
   ],
   "source": [
    "# returns a numpy array\n",
    "x = df.values\n",
    "df_temp = df\n",
    "# normalize data\n",
    "min_max_scaler = preprocessing.MinMaxScaler()\n",
    "min_max_scaler.fit(x)\n",
    "x_scaled = min_max_scaler.transform(x)\n",
    "df = pd.DataFrame(x_scaled, columns = df.columns)\n",
    "# make value in result column a 0,1. Turn it into binary classification\n",
    "df.loc[df[\"num\"] > 0, \"num\"] = 1\n",
    "print(df)"
   ]
  },
  {
   "cell_type": "markdown",
   "metadata": {},
   "source": [
    "# Feature Selection"
   ]
  },
  {
   "cell_type": "markdown",
   "metadata": {},
   "source": [
    "## Prepare data"
   ]
  },
  {
   "cell_type": "code",
   "execution_count": 6,
   "metadata": {
    "ExecuteTime": {
     "end_time": "2020-10-20T10:58:56.371605Z",
     "start_time": "2020-10-20T10:58:56.354519Z"
    }
   },
   "outputs": [
    {
     "name": "stdout",
     "output_type": "stream",
     "text": [
      "The input: \n",
      "\n",
      "           age        cp  trestbps  htn      chol      cigs     years  famhist  \\\n",
      "0    0.708333  0.000000  0.481132  1.0  0.244292  0.505051  0.370370      1.0   \n",
      "1    0.791667  1.000000  0.622642  1.0  0.365297  0.404040  0.740741      1.0   \n",
      "2    0.791667  1.000000  0.245283  1.0  0.235160  0.202020  0.648148      1.0   \n",
      "3    0.166667  0.666667  0.339623  0.0  0.283105  0.000000  0.000000      1.0   \n",
      "4    0.250000  0.333333  0.339623  1.0  0.178082  0.000000  0.000000      1.0   \n",
      "..        ...       ...       ...  ...       ...       ...       ...      ...   \n",
      "277  0.208333  0.666667  0.415094  1.0  0.214612  0.202020  0.425926      0.0   \n",
      "278  0.583333  0.333333  0.566038  0.0  0.242009  0.404040  0.648148      1.0   \n",
      "279  0.604167  1.000000  0.339623  1.0  0.162100  0.000000  0.000000      1.0   \n",
      "280  0.583333  1.000000  0.150943  1.0  0.477169  0.202020  0.277778      1.0   \n",
      "281  0.375000  0.666667  0.339623  1.0  0.289954  0.000000  0.000000      1.0   \n",
      "\n",
      "     restecg   thaldur  ...   oldpeak  slope    rldv5e        ca  thal  lvx3  \\\n",
      "0        1.0  0.659091  ...  0.370968    1.0  0.601626  0.000000  0.75   0.0   \n",
      "1        1.0  0.583333  ...  0.241935    0.5  0.654472  1.000000  0.00   0.0   \n",
      "2        1.0  0.507576  ...  0.419355    0.5  0.512195  0.666667  1.00   0.0   \n",
      "3        0.0  0.848485  ...  0.564516    1.0  0.581301  0.000000  0.00   0.0   \n",
      "4        1.0  0.393939  ...  0.225806    0.0  0.065041  0.000000  0.00   0.0   \n",
      "..       ...       ...  ...       ...    ...       ...       ...   ...   ...   \n",
      "277      0.0  0.416667  ...  0.000000    0.5  0.556911  0.000000  0.00   0.0   \n",
      "278      1.0  0.659091  ...  0.000000    0.0  0.154472  0.333333  0.00   0.0   \n",
      "279      0.0  0.431818  ...  0.096774    0.5  0.284553  0.000000  0.00   0.0   \n",
      "280      0.0  0.393939  ...  0.483871    0.5  0.272358  0.333333  1.00   0.0   \n",
      "281      0.0  0.583333  ...  0.000000    0.0  0.126016  0.000000  0.00   0.0   \n",
      "\n",
      "         lvx4  exang  fbs  sex  \n",
      "0    0.000000    0.0  1.0  1.0  \n",
      "1    0.000000    1.0  0.0  1.0  \n",
      "2    0.857143    1.0  0.0  1.0  \n",
      "3    0.000000    0.0  0.0  1.0  \n",
      "4    0.000000    0.0  0.0  0.0  \n",
      "..        ...    ...  ...  ...  \n",
      "277  0.000000    0.0  0.0  0.0  \n",
      "278  0.000000    0.0  0.0  1.0  \n",
      "279  0.000000    0.0  0.0  0.0  \n",
      "280  0.000000    1.0  0.0  1.0  \n",
      "281  0.000000    0.0  0.0  1.0  \n",
      "\n",
      "[282 rows x 27 columns]\n",
      "The output: \n",
      "\n",
      " 0      0.0\n",
      "1      1.0\n",
      "2      1.0\n",
      "3      0.0\n",
      "4      0.0\n",
      "      ... \n",
      "277    0.0\n",
      "278    1.0\n",
      "279    0.0\n",
      "280    1.0\n",
      "281    0.0\n",
      "Name: num, Length: 282, dtype: float64\n"
     ]
    }
   ],
   "source": [
    "y = df[\"num\"]\n",
    "X = df.drop(\"num\",axis=1)\n",
    "print(\"The input: \\n\\n\",X)\n",
    "print(\"The output: \\n\\n\",y)"
   ]
  },
  {
   "cell_type": "markdown",
   "metadata": {},
   "source": [
    "## f_classification selection"
   ]
  },
  {
   "cell_type": "code",
   "execution_count": 7,
   "metadata": {
    "ExecuteTime": {
     "end_time": "2020-10-20T10:58:57.593241Z",
     "start_time": "2020-10-20T10:58:57.583920Z"
    }
   },
   "outputs": [
    {
     "name": "stdout",
     "output_type": "stream",
     "text": [
      "['age', 'cp', 'restecg', 'thaldur', 'met', 'thalach', 'oldpeak', 'slope', 'ca', 'thal', 'lvx4', 'exang', 'sex']\n"
     ]
    }
   ],
   "source": [
    "selector = SelectKBest(f_classif, k = K)\n",
    "selector.fit_transform(X,y)\n",
    "features = selector.get_support(indices = True)\n",
    "f_classification = [column for column in df.columns[features]]\n",
    "print(f_classification)"
   ]
  },
  {
   "cell_type": "markdown",
   "metadata": {},
   "source": [
    "## mutual_info_regression selection"
   ]
  },
  {
   "cell_type": "code",
   "execution_count": 8,
   "metadata": {
    "ExecuteTime": {
     "end_time": "2020-10-20T10:58:58.767357Z",
     "start_time": "2020-10-20T10:58:58.648555Z"
    }
   },
   "outputs": [
    {
     "name": "stdout",
     "output_type": "stream",
     "text": [
      "['cp', 'chol', 'restecg', 'thaldur', 'thaltime', 'thalach', 'oldpeak', 'ca', 'thal', 'lvx3', 'lvx4', 'exang', 'fbs']\n"
     ]
    }
   ],
   "source": [
    "selector = SelectKBest(mutual_info_regression, k = K)\n",
    "selector.fit_transform(X,y)\n",
    "features = selector.get_support(indices = True)\n",
    "mutual_info_regression = [column for column in df.columns[features]]\n",
    "print(mutual_info_regression)"
   ]
  },
  {
   "cell_type": "markdown",
   "metadata": {},
   "source": [
    "## f_regression selection"
   ]
  },
  {
   "cell_type": "code",
   "execution_count": 9,
   "metadata": {
    "ExecuteTime": {
     "end_time": "2020-10-20T10:58:59.930273Z",
     "start_time": "2020-10-20T10:58:59.921406Z"
    }
   },
   "outputs": [
    {
     "name": "stdout",
     "output_type": "stream",
     "text": [
      "['age', 'cp', 'restecg', 'thaldur', 'met', 'thalach', 'oldpeak', 'slope', 'ca', 'thal', 'lvx4', 'exang', 'sex']\n"
     ]
    }
   ],
   "source": [
    "selector = SelectKBest(f_regression, k = K)\n",
    "selector.fit_transform(X,y)\n",
    "features = selector.get_support(indices = True)\n",
    "f_regression = [column for column in df.columns[features]]\n",
    "print(f_regression)"
   ]
  },
  {
   "cell_type": "markdown",
   "metadata": {},
   "source": [
    "## Chi2 selection"
   ]
  },
  {
   "cell_type": "code",
   "execution_count": 10,
   "metadata": {
    "ExecuteTime": {
     "end_time": "2020-10-20T10:59:01.968232Z",
     "start_time": "2020-10-20T10:59:01.958496Z"
    }
   },
   "outputs": [
    {
     "name": "stdout",
     "output_type": "stream",
     "text": [
      "['cp', 'restecg', 'thaldur', 'met', 'thalach', 'oldpeak', 'slope', 'ca', 'thal', 'lvx3', 'lvx4', 'exang', 'sex']\n"
     ]
    }
   ],
   "source": [
    "selector = SelectKBest(chi2, k = K)\n",
    "selector.fit_transform(X,y)\n",
    "features = selector.get_support(indices = True)\n",
    "chi2 = [column for column in df.columns[features]]\n",
    "print(chi2)"
   ]
  },
  {
   "cell_type": "markdown",
   "metadata": {},
   "source": [
    "## mutual_info_classif selection"
   ]
  },
  {
   "cell_type": "code",
   "execution_count": 11,
   "metadata": {
    "ExecuteTime": {
     "end_time": "2020-10-20T10:59:03.365684Z",
     "start_time": "2020-10-20T10:59:03.263145Z"
    }
   },
   "outputs": [
    {
     "name": "stdout",
     "output_type": "stream",
     "text": [
      "['cp', 'chol', 'cigs', 'thaltime', 'met', 'thalach', 'oldpeak', 'slope', 'ca', 'thal', 'lvx4', 'exang', 'sex']\n"
     ]
    }
   ],
   "source": [
    "selector = SelectKBest(mutual_info_classif, k = K)\n",
    "selector.fit_transform(X,y)\n",
    "features = selector.get_support(indices = True)\n",
    "mutual_info_classif = [column for column in df.columns[features]]\n",
    "print(mutual_info_classif)"
   ]
  },
  {
   "cell_type": "markdown",
   "metadata": {},
   "source": [
    "## Select feature"
   ]
  },
  {
   "cell_type": "code",
   "execution_count": 12,
   "metadata": {
    "ExecuteTime": {
     "end_time": "2020-10-20T10:59:05.083222Z",
     "start_time": "2020-10-20T10:59:05.078506Z"
    }
   },
   "outputs": [
    {
     "name": "stdout",
     "output_type": "stream",
     "text": [
      "[('ca', 5), ('cp', 5), ('exang', 5), ('lvx4', 5), ('oldpeak', 5), ('thal', 5), ('thalach', 5), ('met', 4), ('restecg', 4), ('sex', 4), ('slope', 4), ('thaldur', 4), ('age', 2), ('chol', 2), ('lvx3', 2), ('thaltime', 2), ('cigs', 1), ('fbs', 1)]\n"
     ]
    }
   ],
   "source": [
    "features_selected = f_classification + mutual_info_regression + f_regression + chi2 + mutual_info_classif\n",
    "features_selected.sort()\n",
    "features_dict = {}\n",
    "for feature in features_selected:\n",
    "    if not feature in features_dict:\n",
    "        features_dict[feature] = features_selected.count(feature)\n",
    "sorted_features = sorted(features_dict.items(), key=lambda x: x[1], reverse=True)\n",
    "print(sorted_features)"
   ]
  },
  {
   "cell_type": "code",
   "execution_count": 13,
   "metadata": {
    "ExecuteTime": {
     "end_time": "2020-10-20T10:59:05.709382Z",
     "start_time": "2020-10-20T10:59:05.704933Z"
    }
   },
   "outputs": [
    {
     "name": "stdout",
     "output_type": "stream",
     "text": [
      "['ca', 'cp', 'exang', 'oldpeak', 'thal', 'thalach', 'restecg', 'sex', 'slope', 'thaldur', 'age', 'chol']\n"
     ]
    }
   ],
   "source": [
    "# choose the features which are selected by many selector and eliminate not-known feature\n",
    "features_to_use = []\n",
    "for feature in sorted_features:\n",
    "    if feature[1] >= 2:\n",
    "        if feature[0] != 'lvx4'and feature[0] != 'lvx3' and feature[0] != 'htn' and feature[0] != 'thaltime' and feature[0] != 'met':\n",
    "            features_to_use.append(feature[0])\n",
    "print(features_to_use)"
   ]
  },
  {
   "cell_type": "code",
   "execution_count": 14,
   "metadata": {
    "ExecuteTime": {
     "end_time": "2020-10-20T10:59:06.414047Z",
     "start_time": "2020-10-20T10:59:06.399621Z"
    }
   },
   "outputs": [
    {
     "name": "stdout",
     "output_type": "stream",
     "text": [
      "           ca        cp  exang   oldpeak  thal   thalach  restecg  sex  slope  \\\n",
      "0    0.000000  0.000000    0.0  0.370968  0.75  0.603053      1.0  1.0    1.0   \n",
      "1    1.000000  1.000000    1.0  0.241935  0.00  0.282443      1.0  1.0    0.5   \n",
      "2    0.666667  1.000000    1.0  0.419355  1.00  0.442748      1.0  1.0    0.5   \n",
      "3    0.000000  0.666667    0.0  0.564516  0.00  0.885496      0.0  1.0    1.0   \n",
      "4    0.000000  0.333333    0.0  0.225806  0.00  0.770992      1.0  0.0    0.0   \n",
      "..        ...       ...    ...       ...   ...       ...      ...  ...    ...   \n",
      "277  0.000000  0.666667    0.0  0.000000  0.00  0.618321      0.0  0.0    0.5   \n",
      "278  0.333333  0.333333    0.0  0.000000  0.00  0.709924      1.0  1.0    0.0   \n",
      "279  0.000000  1.000000    0.0  0.096774  0.00  0.458015      0.0  0.0    0.5   \n",
      "280  0.333333  1.000000    1.0  0.483871  1.00  0.549618      0.0  1.0    0.5   \n",
      "281  0.000000  0.666667    0.0  0.000000  0.00  0.824427      0.0  1.0    0.0   \n",
      "\n",
      "      thaldur       age      chol  \n",
      "0    0.659091  0.708333  0.244292  \n",
      "1    0.583333  0.791667  0.365297  \n",
      "2    0.507576  0.791667  0.235160  \n",
      "3    0.848485  0.166667  0.283105  \n",
      "4    0.393939  0.250000  0.178082  \n",
      "..        ...       ...       ...  \n",
      "277  0.416667  0.208333  0.214612  \n",
      "278  0.659091  0.583333  0.242009  \n",
      "279  0.431818  0.604167  0.162100  \n",
      "280  0.393939  0.583333  0.477169  \n",
      "281  0.583333  0.375000  0.289954  \n",
      "\n",
      "[282 rows x 12 columns]\n"
     ]
    }
   ],
   "source": [
    "X = df[features_to_use] #data used for training\n",
    "# we need to store the min and range of data feature and the chosen feature for implementing normalization on website\n",
    "# 's user data.\n",
    "df_temp = df_temp[features_to_use]\n",
    "min_max_scaler = preprocessing.MinMaxScaler()\n",
    "min_max_scaler.fit(df_temp.values) #perform min_max scaler on copy of origin data\n",
    "min_data = min_max_scaler.data_min_ #min_data of chosen features \n",
    "range_data = min_max_scaler.data_range_ #range data of chosen features\n",
    "\n",
    "def convertToString(arr):\n",
    "    \"\"\"\n",
    "    param: arr: int array\n",
    "    this function convert the int array to string array\n",
    "    return: string array\n",
    "    \"\"\"\n",
    "    modified_arr = []\n",
    "    for item in arr:\n",
    "        modified_arr.append(str(item))\n",
    "    return modified_arr\n",
    "    \n",
    "min_data=convertToString(min_data)\n",
    "range_data=convertToString(range_data)\n",
    "\n",
    "separator = \" \"\n",
    "#write the chosen feature and information about chosen feature into chosen_feature.txt\n",
    "chosen_feature = open(\"chosen_feature.txt\",'w')\n",
    "chosen_feature.writelines(separator.join(features_to_use)+'\\n')\n",
    "chosen_feature.writelines(separator.join(min_data)+'\\n')\n",
    "chosen_feature.writelines(separator.join(range_data))\n",
    "chosen_feature.close()\n",
    "print(X)"
   ]
  },
  {
   "cell_type": "markdown",
   "metadata": {},
   "source": [
    "# Train model and test the accuracy"
   ]
  },
  {
   "cell_type": "code",
   "execution_count": 15,
   "metadata": {
    "ExecuteTime": {
     "end_time": "2020-10-20T10:59:11.743907Z",
     "start_time": "2020-10-20T10:59:11.738881Z"
    },
    "scrolled": true
   },
   "outputs": [
    {
     "data": {
      "text/plain": [
       "10"
      ]
     },
     "execution_count": 15,
     "metadata": {},
     "output_type": "execute_result"
    }
   ],
   "source": [
    "num_folds = 10\n",
    "kf = KFold(n_splits = num_folds)\n",
    "kf.get_n_splits(X)"
   ]
  },
  {
   "cell_type": "markdown",
   "metadata": {},
   "source": [
    "## support function "
   ]
  },
  {
   "cell_type": "code",
   "execution_count": 16,
   "metadata": {
    "ExecuteTime": {
     "end_time": "2020-10-20T10:59:13.006350Z",
     "start_time": "2020-10-20T10:59:12.994916Z"
    }
   },
   "outputs": [],
   "source": [
    "# store result of the model prediction in intermediate_dict\n",
    "intermediate_dict = {\"SVM\": [], \"LDA\": [], \"KNN\": []}\n",
    "from sklearn.model_selection import cross_val_score\n",
    "\n",
    "def k_fold_classifier_acc_tester(clf, my_dict, nameOfColumn, X, y, filename=None):\n",
    "    \"\"\"\n",
    "    this function trains and tests model accuracy by using K-fold method\n",
    "    params: \n",
    "        clf: the model\n",
    "        my_dict: store the model prediction result \n",
    "        nameOfColumn: name of column in dict\n",
    "        df: data frame contain input\n",
    "        df_target: output\n",
    "        filename: name of the file to store the trained model which has the highest accuracy\n",
    "    return: accuracy array\n",
    "    \"\"\"\n",
    "    \n",
    "    accuracy_model = []\n",
    "    models = []\n",
    "    max_id = 0\n",
    "    for train_index, test_index in kf.split(X, y):\n",
    "        X_train , X_test = X.iloc[train_index], X.iloc[test_index]\n",
    "        y_train, y_test = y[train_index], y[test_index]\n",
    "        model = clf.fit(X_train, y_train)\n",
    "        models.append(model)\n",
    "        accuracy_model.append(accuracy_score(y_test, model.predict(X_test), normalize=True)*100)\n",
    "        my_dict[nameOfColumn].extend(model.predict(X_test))\n",
    "    # write the highest accuracy model to file\n",
    "    if filename!=None:\n",
    "        for i in range (len(accuracy_model)):\n",
    "            if accuracy_model[i]>accuracy_model[max_id]:\n",
    "                max_id = i\n",
    "        export_model = models[max_id]\n",
    "        name = filename+'.pkl'\n",
    "        pickle.dump(export_model, open(name,'wb'))\n",
    "    return accuracy_model\n",
    "        \n",
    "def plot_function(accuracy, num_folds=10):\n",
    "    \"\"\"\n",
    "    This function plots and calculate the model accuracy\n",
    "    \"\"\"\n",
    "    list_of_fold_names = [\"fold\" + str(i) for i in range(num_folds)]\n",
    "    scores = pd.DataFrame(accuracy, columns = ['Scores'])\n",
    "    sns.set(style=\"dark\", rc={\"lines.linewidth\": 2})\n",
    "    sns.barplot(x=list_of_fold_names, y = \"Scores\", data=scores)\n",
    "    plt.show()\n",
    "    sns.set()\n",
    "    accuracy_summed = functools.reduce(lambda a,b: a + b, accuracy)\n",
    "    average_acc = accuracy_summed/num_folds\n",
    "    print(\"Average accuracy: \",average_acc)\n",
    "    return average_acc\n"
   ]
  },
  {
   "cell_type": "markdown",
   "metadata": {},
   "source": [
    "## SVM model"
   ]
  },
  {
   "cell_type": "code",
   "execution_count": 17,
   "metadata": {
    "ExecuteTime": {
     "end_time": "2020-10-20T10:59:14.738228Z",
     "start_time": "2020-10-20T10:59:14.413137Z"
    }
   },
   "outputs": [
    {
     "name": "stdout",
     "output_type": "stream",
     "text": [
      "[93.10344827586206, 86.20689655172413, 85.71428571428571, 96.42857142857143, 82.14285714285714, 85.71428571428571, 75.0, 71.42857142857143, 75.0, 82.14285714285714]\n"
     ]
    },
    {
     "data": {
      "image/png": "[encoded data removed]",
      "text/plain": [
       "<Figure size 432x288 with 1 Axes>"
      ]
     },
     "metadata": {},
     "output_type": "display_data"
    },
    {
     "name": "stdout",
     "output_type": "stream",
     "text": [
      "Average accuracy:  83.28817733990147\n"
     ]
    }
   ],
   "source": [
    "svm_clf = BaggingClassifier(base_estimator = SVC(gamma = 'auto'), n_estimators = 3, random_state = 0)\n",
    "svm_accuracy_model = k_fold_classifier_acc_tester(svm_clf, intermediate_dict, \"SVM\", X, y, \"SVM\")\n",
    "print(svm_accuracy_model)\n",
    "svm_average_acc = plot_function(svm_accuracy_model)"
   ]
  },
  {
   "cell_type": "markdown",
   "metadata": {},
   "source": [
    "## LDA model"
   ]
  },
  {
   "cell_type": "code",
   "execution_count": 18,
   "metadata": {
    "ExecuteTime": {
     "end_time": "2020-10-20T10:59:16.235895Z",
     "start_time": "2020-10-20T10:59:15.916486Z"
    }
   },
   "outputs": [
    {
     "name": "stdout",
     "output_type": "stream",
     "text": [
      "[93.10344827586206, 86.20689655172413, 82.14285714285714, 96.42857142857143, 85.71428571428571, 82.14285714285714, 75.0, 82.14285714285714, 82.14285714285714, 78.57142857142857]\n"
     ]
    },
    {
     "data": {
      "image/png": "[encoded data removed]",
      "text/plain": [
       "<Figure size 432x288 with 1 Axes>"
      ]
     },
     "metadata": {},
     "output_type": "display_data"
    },
    {
     "name": "stdout",
     "output_type": "stream",
     "text": [
      "Average accuracy:  84.35960591133004\n"
     ]
    }
   ],
   "source": [
    "lda_clf = BaggingClassifier(base_estimator = LinearDiscriminantAnalysis(), n_estimators = 4, random_state = 0)\n",
    "lda_accuracy_model = k_fold_classifier_acc_tester(lda_clf, intermediate_dict, \"LDA\", X, y,\"LDA\")\n",
    "print(lda_accuracy_model)\n",
    "lda_average_acc = plot_function(lda_accuracy_model)"
   ]
  },
  {
   "cell_type": "markdown",
   "metadata": {},
   "source": [
    "## KNN model"
   ]
  },
  {
   "cell_type": "code",
   "execution_count": 19,
   "metadata": {
    "ExecuteTime": {
     "end_time": "2020-10-20T10:59:18.131008Z",
     "start_time": "2020-10-20T10:59:17.278982Z"
    }
   },
   "outputs": [
    {
     "name": "stdout",
     "output_type": "stream",
     "text": [
      "5\n"
     ]
    }
   ],
   "source": [
    "average_accuracies_KNN = [] \n",
    "num_of_neighbors_to_try_to = 10\n",
    "for i in range(1, num_of_neighbors_to_try_to + 1):\n",
    "    accuracy_model = []\n",
    "    clf = KNeighborsClassifier(n_neighbors = i) \n",
    "\n",
    "    accuracy_model = k_fold_classifier_acc_tester(clf, {'KNN': []}, \"KNN\", X, y)\n",
    "    accuracy_summed = functools.reduce(lambda a,b: a + b, accuracy_model)\n",
    "\n",
    "    average_acc = accuracy_summed/num_folds\n",
    "    average_accuracies_KNN.append(average_acc)\n",
    "    \n",
    "max_ave = 0\n",
    "best_k_val = -1\n",
    "for i in range(len(average_accuracies_KNN)):\n",
    "    if max_ave < average_accuracies_KNN[i]:\n",
    "        max_ave = average_accuracies_KNN[i]\n",
    "        best_k_val = i + 1\n",
    "        \n",
    "print(best_k_val)"
   ]
  },
  {
   "cell_type": "code",
   "execution_count": 20,
   "metadata": {
    "ExecuteTime": {
     "end_time": "2020-10-20T10:59:19.019022Z",
     "start_time": "2020-10-20T10:59:18.655352Z"
    }
   },
   "outputs": [
    {
     "name": "stdout",
     "output_type": "stream",
     "text": [
      "[82.75862068965517, 86.20689655172413, 78.57142857142857, 92.85714285714286, 78.57142857142857, 89.28571428571429, 75.0, 89.28571428571429, 75.0, 75.0]\n"
     ]
    },
    {
     "data": {
      "image/png": "[encoded data removed]",
      "text/plain": [
       "<Figure size 432x288 with 1 Axes>"
      ]
     },
     "metadata": {},
     "output_type": "display_data"
    },
    {
     "name": "stdout",
     "output_type": "stream",
     "text": [
      "Average accuracy:  82.25369458128078\n"
     ]
    }
   ],
   "source": [
    "knn_clf = BaggingClassifier(base_estimator = KNeighborsClassifier(n_neighbors = 5), n_estimators = 5, random_state = 0)\n",
    "knn_accuracy_model = k_fold_classifier_acc_tester(knn_clf, intermediate_dict, \"KNN\", X, y, \"KNN\")\n",
    "print(knn_accuracy_model)\n",
    "knn_average_acc = plot_function(knn_accuracy_model)"
   ]
  },
  {
   "cell_type": "markdown",
   "metadata": {},
   "source": [
    "## SVM 2 model"
   ]
  },
  {
   "cell_type": "code",
   "execution_count": 21,
   "metadata": {
    "ExecuteTime": {
     "end_time": "2020-10-20T10:59:20.442613Z",
     "start_time": "2020-10-20T10:59:20.118531Z"
    }
   },
   "outputs": [
    {
     "name": "stdout",
     "output_type": "stream",
     "text": [
      "[93.10344827586206, 86.20689655172413, 82.14285714285714, 96.42857142857143, 85.71428571428571, 85.71428571428571, 75.0, 71.42857142857143, 75.0, 78.57142857142857]\n"
     ]
    },
    {
     "data": {
      "image/png": "[encoded data removed]",
      "text/plain": [
       "<Figure size 432x288 with 1 Axes>"
      ]
     },
     "metadata": {},
     "output_type": "display_data"
    },
    {
     "name": "stdout",
     "output_type": "stream",
     "text": [
      "Average accuracy:  82.93103448275862\n"
     ]
    }
   ],
   "source": [
    "intermediate_df = pd.DataFrame(intermediate_dict)\n",
    "svm_clf_2 = BaggingClassifier(base_estimator = SVC(kernel = 'rbf', gamma = 'auto'), n_estimators = 4, random_state = 0)\n",
    "svm_accuracy_model_2 = k_fold_classifier_acc_tester(svm_clf_2, {'NA':[]}, \"NA\", intermediate_df, y, \"SVM2\")\n",
    "print(svm_accuracy_model_2)\n",
    "svm_average_acc_2 = plot_function(svm_accuracy_model_2)"
   ]
  },
  {
   "cell_type": "markdown",
   "metadata": {},
   "source": [
    "## Voting model"
   ]
  },
  {
   "cell_type": "code",
   "execution_count": 22,
   "metadata": {
    "ExecuteTime": {
     "end_time": "2020-10-20T10:59:21.944006Z",
     "start_time": "2020-10-20T10:59:21.941198Z"
    }
   },
   "outputs": [],
   "source": [
    "from sklearn.ensemble import RandomForestClassifier, VotingClassifier"
   ]
  },
  {
   "cell_type": "code",
   "execution_count": 23,
   "metadata": {
    "ExecuteTime": {
     "end_time": "2020-10-20T10:59:23.176550Z",
     "start_time": "2020-10-20T10:59:22.486471Z"
    }
   },
   "outputs": [
    {
     "name": "stdout",
     "output_type": "stream",
     "text": [
      "[93.10344827586206, 86.20689655172413, 82.14285714285714, 96.42857142857143, 82.14285714285714, 85.71428571428571, 75.0, 85.71428571428571, 78.57142857142857, 78.57142857142857]\n"
     ]
    },
    {
     "data": {
      "image/png": "[encoded data removed]",
      "text/plain": [
       "<Figure size 432x288 with 1 Axes>"
      ]
     },
     "metadata": {},
     "output_type": "display_data"
    },
    {
     "name": "stdout",
     "output_type": "stream",
     "text": [
      "Average accuracy:  84.35960591133004\n"
     ]
    }
   ],
   "source": [
    "estimators = [('knn', knn_clf), ('svm', svm_clf), ('lda', lda_clf)]\n",
    "voting_clf = VotingClassifier(estimators = estimators, voting='hard')\n",
    "voting_accuracy_model = k_fold_classifier_acc_tester(voting_clf, {'NA':[]}, \"NA\", X, y, \"Voting\")\n",
    "print(voting_accuracy_model)\n",
    "voting_average_acc = plot_function(voting_accuracy_model)"
   ]
  },
  {
   "cell_type": "markdown",
   "metadata": {},
   "source": [
    "## Voting 2 model"
   ]
  },
  {
   "cell_type": "code",
   "execution_count": 24,
   "metadata": {
    "ExecuteTime": {
     "end_time": "2020-10-20T10:59:24.754187Z",
     "start_time": "2020-10-20T10:59:24.171647Z"
    }
   },
   "outputs": [
    {
     "name": "stdout",
     "output_type": "stream",
     "text": [
      "[93.10344827586206, 86.20689655172413, 82.14285714285714, 96.42857142857143, 82.14285714285714, 85.71428571428571, 75.0, 71.42857142857143, 75.0, 78.57142857142857]\n"
     ]
    },
    {
     "data": {
      "image/png": "[encoded data removed]",
      "text/plain": [
       "<Figure size 432x288 with 1 Axes>"
      ]
     },
     "metadata": {},
     "output_type": "display_data"
    },
    {
     "name": "stdout",
     "output_type": "stream",
     "text": [
      "Average accuracy:  82.57389162561576\n"
     ]
    }
   ],
   "source": [
    "estimators = [('knn', knn_clf), ('svm', svm_clf), ('lda', lda_clf)]\n",
    "voting_clf_2 = VotingClassifier(estimators = estimators, voting='hard')\n",
    "voting_accuracy_model_2 = k_fold_classifier_acc_tester(voting_clf_2, {'NA':[]}, \"NA\", intermediate_df, y, \"Voting2\")\n",
    "print(voting_accuracy_model_2)\n",
    "voting2_average_acc = plot_function(voting_accuracy_model_2)"
   ]
  },
  {
   "cell_type": "markdown",
   "metadata": {},
   "source": [
    "## Accuracy Overview"
   ]
  },
  {
   "cell_type": "code",
   "execution_count": 25,
   "metadata": {
    "ExecuteTime": {
     "end_time": "2020-10-20T10:59:26.234048Z",
     "start_time": "2020-10-20T10:59:25.965965Z"
    }
   },
   "outputs": [
    {
     "name": "stdout",
     "output_type": "stream",
     "text": [
      "The average accuracy: \n",
      "\n",
      "          SVM        LDA        KNN      SVM_2     voting   voting_2\n",
      "0  83.288177  84.359606  82.253695  82.931034  84.359606  82.573892\n"
     ]
    },
    {
     "data": {
      "text/html": [
       "<div>\n",
       "<style scoped>\n",
       "    .dataframe tbody tr th:only-of-type {\n",
       "        vertical-align: middle;\n",
       "    }\n",
       "\n",
       "    .dataframe tbody tr th {\n",
       "        vertical-align: top;\n",
       "    }\n",
       "\n",
       "    .dataframe thead th {\n",
       "        text-align: right;\n",
       "    }\n",
       "</style>\n",
       "<table border=\"1\" class=\"dataframe\">\n",
       "  <thead>\n",
       "    <tr style=\"text-align: right;\">\n",
       "      <th></th>\n",
       "      <th>SVM</th>\n",
       "      <th>LDA</th>\n",
       "      <th>KNN</th>\n",
       "      <th>SVM_2</th>\n",
       "      <th>voting</th>\n",
       "      <th>voting_2</th>\n",
       "    </tr>\n",
       "  </thead>\n",
       "  <tbody>\n",
       "    <tr>\n",
       "      <th>0</th>\n",
       "      <td>93.103448</td>\n",
       "      <td>93.103448</td>\n",
       "      <td>82.758621</td>\n",
       "      <td>93.103448</td>\n",
       "      <td>93.103448</td>\n",
       "      <td>93.103448</td>\n",
       "    </tr>\n",
       "    <tr>\n",
       "      <th>1</th>\n",
       "      <td>86.206897</td>\n",
       "      <td>86.206897</td>\n",
       "      <td>86.206897</td>\n",
       "      <td>86.206897</td>\n",
       "      <td>86.206897</td>\n",
       "      <td>86.206897</td>\n",
       "    </tr>\n",
       "    <tr>\n",
       "      <th>2</th>\n",
       "      <td>85.714286</td>\n",
       "      <td>82.142857</td>\n",
       "      <td>78.571429</td>\n",
       "      <td>82.142857</td>\n",
       "      <td>82.142857</td>\n",
       "      <td>82.142857</td>\n",
       "    </tr>\n",
       "    <tr>\n",
       "      <th>3</th>\n",
       "      <td>96.428571</td>\n",
       "      <td>96.428571</td>\n",
       "      <td>92.857143</td>\n",
       "      <td>96.428571</td>\n",
       "      <td>96.428571</td>\n",
       "      <td>96.428571</td>\n",
       "    </tr>\n",
       "    <tr>\n",
       "      <th>4</th>\n",
       "      <td>82.142857</td>\n",
       "      <td>85.714286</td>\n",
       "      <td>78.571429</td>\n",
       "      <td>85.714286</td>\n",
       "      <td>82.142857</td>\n",
       "      <td>82.142857</td>\n",
       "    </tr>\n",
       "    <tr>\n",
       "      <th>5</th>\n",
       "      <td>85.714286</td>\n",
       "      <td>82.142857</td>\n",
       "      <td>89.285714</td>\n",
       "      <td>85.714286</td>\n",
       "      <td>85.714286</td>\n",
       "      <td>85.714286</td>\n",
       "    </tr>\n",
       "    <tr>\n",
       "      <th>6</th>\n",
       "      <td>75.000000</td>\n",
       "      <td>75.000000</td>\n",
       "      <td>75.000000</td>\n",
       "      <td>75.000000</td>\n",
       "      <td>75.000000</td>\n",
       "      <td>75.000000</td>\n",
       "    </tr>\n",
       "    <tr>\n",
       "      <th>7</th>\n",
       "      <td>71.428571</td>\n",
       "      <td>82.142857</td>\n",
       "      <td>89.285714</td>\n",
       "      <td>71.428571</td>\n",
       "      <td>85.714286</td>\n",
       "      <td>71.428571</td>\n",
       "    </tr>\n",
       "    <tr>\n",
       "      <th>8</th>\n",
       "      <td>75.000000</td>\n",
       "      <td>82.142857</td>\n",
       "      <td>75.000000</td>\n",
       "      <td>75.000000</td>\n",
       "      <td>78.571429</td>\n",
       "      <td>75.000000</td>\n",
       "    </tr>\n",
       "    <tr>\n",
       "      <th>9</th>\n",
       "      <td>82.142857</td>\n",
       "      <td>78.571429</td>\n",
       "      <td>75.000000</td>\n",
       "      <td>78.571429</td>\n",
       "      <td>78.571429</td>\n",
       "      <td>78.571429</td>\n",
       "    </tr>\n",
       "  </tbody>\n",
       "</table>\n",
       "</div>"
      ],
      "text/plain": [
       "         SVM        LDA        KNN      SVM_2     voting   voting_2\n",
       "0  93.103448  93.103448  82.758621  93.103448  93.103448  93.103448\n",
       "1  86.206897  86.206897  86.206897  86.206897  86.206897  86.206897\n",
       "2  85.714286  82.142857  78.571429  82.142857  82.142857  82.142857\n",
       "3  96.428571  96.428571  92.857143  96.428571  96.428571  96.428571\n",
       "4  82.142857  85.714286  78.571429  85.714286  82.142857  82.142857\n",
       "5  85.714286  82.142857  89.285714  85.714286  85.714286  85.714286\n",
       "6  75.000000  75.000000  75.000000  75.000000  75.000000  75.000000\n",
       "7  71.428571  82.142857  89.285714  71.428571  85.714286  71.428571\n",
       "8  75.000000  82.142857  75.000000  75.000000  78.571429  75.000000\n",
       "9  82.142857  78.571429  75.000000  78.571429  78.571429  78.571429"
      ]
     },
     "execution_count": 25,
     "metadata": {},
     "output_type": "execute_result"
    },
    {
     "data": {
      "image/png": "[encoded data removed]",
      "text/plain": [
       "<Figure size 720x576 with 1 Axes>"
      ]
     },
     "metadata": {},
     "output_type": "display_data"
    }
   ],
   "source": [
    "average_accuracy_dict = {'SVM': [svm_average_acc], 'LDA': [lda_average_acc], 'KNN': [knn_average_acc],'SVM_2': [svm_average_acc_2], 'voting':[voting_average_acc], 'voting_2':[voting2_average_acc]}\n",
    "average_acc_df = pd.DataFrame(average_accuracy_dict)\n",
    "print(\"The average accuracy: \\n\\n\",average_acc_df)\n",
    "accuracy_boxplot_dict = {'SVM': svm_accuracy_model, 'LDA': lda_accuracy_model, 'KNN': knn_accuracy_model, 'SVM_2': svm_accuracy_model_2 , 'voting':voting_accuracy_model, 'voting_2':voting_accuracy_model_2}\n",
    "boxplot_df = pd.DataFrame(accuracy_boxplot_dict)\n",
    "accuracy_boxplot = boxplot_df.boxplot(figsize=(10,8))\n",
    "boxplot_df"
   ]
  },
  {
   "cell_type": "markdown",
   "metadata": {},
   "source": [
    "# Test Accuracy on other dataset"
   ]
  },
  {
   "cell_type": "code",
   "execution_count": 26,
   "metadata": {
    "ExecuteTime": {
     "end_time": "2020-10-20T10:59:30.246282Z",
     "start_time": "2020-10-20T10:59:27.339512Z"
    }
   },
   "outputs": [
    {
     "name": "stdout",
     "output_type": "stream",
     "text": [
      "The origin data: \n",
      "\n",
      "\n",
      "        id  ccf  age  sex  painloc  painexer  relrest  pncaden  cp  trestbps  \\\n",
      "0    1254    0   40    1        1         0        0       -9   2       140   \n",
      "1    1255    0   49    0        1         0        0       -9   3       160   \n",
      "2    1256    0   37    1        1         0        0       -9   2       130   \n",
      "3    1257    0   48    0        1         1        1       -9   4       138   \n",
      "4    1258    0   54    1        1         0        1       -9   3       150   \n",
      "..    ...  ...  ...  ...      ...       ...      ...      ...  ..       ...   \n",
      "289  1053    0   48    0        0         0        0       -9   2        -9   \n",
      "290  1054    0   36    1        1         0        0       -9   2       120   \n",
      "291  5001    0   48    1        0         0        0       -9   3       110   \n",
      "292  5000    0   47    0        0         0        0       -9   2       140   \n",
      "293  5002    0   53    1        1         1        1       -9   4       130   \n",
      "\n",
      "     ...  om2  rcaprox  rcadist  lvx1  lvx2  lvx3  lvx4  lvf  cathef  junk  \n",
      "0    ...   -9       -9       -9     1     1     1     1    1      -9    -9  \n",
      "1    ...   -9       -9       -9     1     1     1     1    1      -9    -9  \n",
      "2    ...   -9       -9       -9     1     1     1     1    1      -9    -9  \n",
      "3    ...   -9        2       -9     1     1     1     1    1      -9    -9  \n",
      "4    ...   -9        1       -9     1     1     1     1    1      -9    -9  \n",
      "..   ...  ...      ...      ...   ...   ...   ...   ...  ...     ...   ...  \n",
      "289  ...   -9       -9       -9     1     1     1     1    1      -9    -9  \n",
      "290  ...   -9       -9       -9     1     1     1     1    1      -9    -9  \n",
      "291  ...   -9       -9       -9     1     1     1     1    1      -9    -9  \n",
      "292  ...   -9       -9       -9     1     1     1     1    1      -9    -9  \n",
      "293  ...   -9        1        1     1     1     1     1    1      -9    -9  \n",
      "\n",
      "[294 rows x 75 columns]\n",
      "\n",
      "\n",
      "\n",
      "The table after dealing with empty cell\n",
      "\n",
      "g        id  ccf  age  sex  painloc  painexer  relrest  cp    trestbps  htn  \\\n",
      "0    1254    0   40    1        1         0        0   2  140.000000  0.0   \n",
      "1    1255    0   49    0        1         0        0   3  160.000000  1.0   \n",
      "2    1256    0   37    1        1         0        0   2  130.000000  0.0   \n",
      "3    1257    0   48    0        1         1        1   4  138.000000  0.0   \n",
      "4    1258    0   54    1        1         0        1   3  150.000000  0.0   \n",
      "..    ...  ...  ...  ...      ...       ...      ...  ..         ...  ...   \n",
      "289  1053    0   48    0        0         0        0   2  132.583618  0.0   \n",
      "290  1054    0   36    1        1         0        0   2  120.000000  0.0   \n",
      "291  5001    0   48    1        0         0        0   3  110.000000  0.0   \n",
      "292  5000    0   47    0        0         0        0   2  140.000000  1.0   \n",
      "293  5002    0   53    1        1         1        1   4  130.000000  0.0   \n",
      "\n",
      "     ...       om1  om2  rcaprox  rcadist  lvx1  lvx2  lvx3  lvx4  lvf  \\\n",
      "0    ...  1.826087  2.0      1.8     1.88     1     1     1     1    1   \n",
      "1    ...  1.826087  2.0      1.8     1.88     1     1     1     1    1   \n",
      "2    ...  1.826087  2.0      1.8     1.88     1     1     1     1    1   \n",
      "3    ...  1.826087  2.0      2.0     1.88     1     1     1     1    1   \n",
      "4    ...  1.826087  2.0      1.0     1.88     1     1     1     1    1   \n",
      "..   ...       ...  ...      ...      ...   ...   ...   ...   ...  ...   \n",
      "289  ...  1.826087  2.0      1.8     1.88     1     1     1     1    1   \n",
      "290  ...  1.826087  2.0      1.8     1.88     1     1     1     1    1   \n",
      "291  ...  1.826087  2.0      1.8     1.88     1     1     1     1    1   \n",
      "292  ...  1.826087  2.0      1.8     1.88     1     1     1     1    1   \n",
      "293  ...  1.826087  2.0      1.0     1.00     1     1     1     1    1   \n",
      "\n",
      "        cathef  \n",
      "0    60.571429  \n",
      "1    60.571429  \n",
      "2    60.571429  \n",
      "3    60.571429  \n",
      "4    60.571429  \n",
      "..         ...  \n",
      "289  60.571429  \n",
      "290  60.571429  \n",
      "291  60.571429  \n",
      "292  60.571429  \n",
      "293  60.571429  \n",
      "\n",
      "[294 rows x 67 columns]\n",
      "\n",
      "\n",
      "\n",
      "Shape of the data after removing the unpredicted column (294, 58)\n",
      "After normalize the data           age  sex  painloc  painexer  relrest        cp  trestbps  htn  \\\n",
      "0    0.315789  1.0      1.0       0.0      0.0  0.333333  0.444444  0.0   \n",
      "1    0.552632  0.0      1.0       0.0      0.0  0.666667  0.629630  1.0   \n",
      "2    0.236842  1.0      1.0       0.0      0.0  0.333333  0.351852  0.0   \n",
      "3    0.526316  0.0      1.0       1.0      1.0  1.000000  0.425926  0.0   \n",
      "4    0.684211  1.0      1.0       0.0      1.0  0.666667  0.537037  0.0   \n",
      "..        ...  ...      ...       ...      ...       ...       ...  ...   \n",
      "289  0.526316  0.0      0.0       0.0      0.0  0.333333  0.375774  0.0   \n",
      "290  0.210526  1.0      1.0       0.0      0.0  0.333333  0.259259  0.0   \n",
      "291  0.526316  1.0      0.0       0.0      0.0  0.666667  0.166667  0.0   \n",
      "292  0.500000  0.0      0.0       0.0      0.0  0.333333  0.444444  1.0   \n",
      "293  0.657895  1.0      1.0       1.0      1.0  1.000000  0.351852  0.0   \n",
      "\n",
      "         chol     smoke  ...       om1  om2  rcaprox  rcadist  lvx1  lvx2  \\\n",
      "0    0.393822  0.166667  ...  0.826087  0.0      0.8     0.88   0.0   0.0   \n",
      "1    0.183398  0.166667  ...  0.826087  0.0      0.8     0.88   0.0   0.0   \n",
      "2    0.382239  0.166667  ...  0.826087  0.0      0.8     0.88   0.0   0.0   \n",
      "3    0.249035  0.166667  ...  0.826087  0.0      1.0     0.88   0.0   0.0   \n",
      "4    0.320171  0.166667  ...  0.826087  0.0      0.0     0.88   0.0   0.0   \n",
      "..        ...       ...  ...       ...  ...      ...      ...   ...   ...   \n",
      "289  0.430502  0.166667  ...  0.826087  0.0      0.8     0.88   0.0   0.0   \n",
      "290  0.156371  0.166667  ...  0.826087  0.0      0.8     0.88   0.0   0.0   \n",
      "291  0.243243  0.166667  ...  0.826087  0.0      0.8     0.88   0.0   0.0   \n",
      "292  0.332046  0.166667  ...  0.826087  0.0      0.8     0.88   0.0   0.0   \n",
      "293  0.187259  0.166667  ...  0.826087  0.0      0.0     0.00   0.0   0.0   \n",
      "\n",
      "     lvx3  lvx4  lvf    cathef  \n",
      "0     0.0   0.0  0.0  0.746867  \n",
      "1     0.0   0.0  0.0  0.746867  \n",
      "2     0.0   0.0  0.0  0.746867  \n",
      "3     0.0   0.0  0.0  0.746867  \n",
      "4     0.0   0.0  0.0  0.746867  \n",
      "..    ...   ...  ...       ...  \n",
      "289   0.0   0.0  0.0  0.746867  \n",
      "290   0.0   0.0  0.0  0.746867  \n",
      "291   0.0   0.0  0.0  0.746867  \n",
      "292   0.0   0.0  0.0  0.746867  \n",
      "293   0.0   0.0  0.0  0.746867  \n",
      "\n",
      "[294 rows x 58 columns]\n"
     ]
    }
   ],
   "source": [
    "fname = \"updated_hungarian.xlsx\"\n",
    "dataframe = read_excel(fname, header = None, names=names)\n",
    "print(\"The origin data: \\n\\n\\n\",dataframe)\n",
    "\n",
    "\n",
    "# fill empty cell with NaN\n",
    "for i in range(dataframe.shape[0]):\n",
    "    for column in dataframe.columns:\n",
    "        if dataframe.at[i, column] == -9:\n",
    "            dataframe.loc[i, column] = np.nan\n",
    "# we fill NaN value with the mean of the column containning NaN\n",
    "df = dataframe.fillna(dataframe.mean())\n",
    "# we drop the column that contains all NaN value\n",
    "df = df.dropna(axis=1,how='all')\n",
    "print(\"\\n\\n\\nThe table after dealing with empty cell\\n\\ng\",df)\n",
    "\n",
    "\n",
    "# we drop dummy column because it is trestbps column, the others is not used for prediction\n",
    "df = df.drop(['dummy', 'id', 'ekgyr', 'ekgday', 'ekgmo', 'ccf', 'cmo', 'cday', 'cyr'], axis=1)\n",
    "print(\"\\n\\n\\nShape of the data after removing the unpredicted column\",df.shape)\n",
    "\n",
    "\n",
    "# returns a numpy array\n",
    "x = df.values\n",
    "df_temp = df\n",
    "# normalize data\n",
    "min_max_scaler = preprocessing.MinMaxScaler()\n",
    "min_max_scaler.fit(x)\n",
    "x_scaled = min_max_scaler.transform(x)\n",
    "df = pd.DataFrame(x_scaled, columns = df.columns)\n",
    "# make value in result column a 0,1. Turn it into binary classification\n",
    "df.loc[df[\"num\"] > 0, \"num\"] = 1\n",
    "print(\"After normalize the data\",df)"
   ]
  },
  {
   "cell_type": "code",
   "execution_count": 27,
   "metadata": {
    "ExecuteTime": {
     "end_time": "2020-10-20T10:59:30.515251Z",
     "start_time": "2020-10-20T10:59:30.491774Z"
    }
   },
   "outputs": [
    {
     "data": {
      "text/html": [
       "<div>\n",
       "<style scoped>\n",
       "    .dataframe tbody tr th:only-of-type {\n",
       "        vertical-align: middle;\n",
       "    }\n",
       "\n",
       "    .dataframe tbody tr th {\n",
       "        vertical-align: top;\n",
       "    }\n",
       "\n",
       "    .dataframe thead th {\n",
       "        text-align: right;\n",
       "    }\n",
       "</style>\n",
       "<table border=\"1\" class=\"dataframe\">\n",
       "  <thead>\n",
       "    <tr style=\"text-align: right;\">\n",
       "      <th></th>\n",
       "      <th>ca</th>\n",
       "      <th>cp</th>\n",
       "      <th>exang</th>\n",
       "      <th>oldpeak</th>\n",
       "      <th>thal</th>\n",
       "      <th>thalach</th>\n",
       "      <th>restecg</th>\n",
       "      <th>sex</th>\n",
       "      <th>slope</th>\n",
       "      <th>thaldur</th>\n",
       "      <th>age</th>\n",
       "      <th>chol</th>\n",
       "    </tr>\n",
       "  </thead>\n",
       "  <tbody>\n",
       "    <tr>\n",
       "      <th>0</th>\n",
       "      <td>0.25</td>\n",
       "      <td>0.333333</td>\n",
       "      <td>0.000000</td>\n",
       "      <td>0.0</td>\n",
       "      <td>0.660714</td>\n",
       "      <td>0.833333</td>\n",
       "      <td>0.0</td>\n",
       "      <td>1.0</td>\n",
       "      <td>0.447115</td>\n",
       "      <td>0.739130</td>\n",
       "      <td>0.315789</td>\n",
       "      <td>0.393822</td>\n",
       "    </tr>\n",
       "    <tr>\n",
       "      <th>1</th>\n",
       "      <td>0.25</td>\n",
       "      <td>0.666667</td>\n",
       "      <td>0.000000</td>\n",
       "      <td>0.2</td>\n",
       "      <td>0.660714</td>\n",
       "      <td>0.685185</td>\n",
       "      <td>0.0</td>\n",
       "      <td>0.0</td>\n",
       "      <td>0.500000</td>\n",
       "      <td>0.391304</td>\n",
       "      <td>0.552632</td>\n",
       "      <td>0.183398</td>\n",
       "    </tr>\n",
       "    <tr>\n",
       "      <th>2</th>\n",
       "      <td>0.25</td>\n",
       "      <td>0.333333</td>\n",
       "      <td>0.000000</td>\n",
       "      <td>0.0</td>\n",
       "      <td>0.660714</td>\n",
       "      <td>0.148148</td>\n",
       "      <td>0.5</td>\n",
       "      <td>1.0</td>\n",
       "      <td>0.447115</td>\n",
       "      <td>0.391304</td>\n",
       "      <td>0.236842</td>\n",
       "      <td>0.382239</td>\n",
       "    </tr>\n",
       "    <tr>\n",
       "      <th>3</th>\n",
       "      <td>0.25</td>\n",
       "      <td>1.000000</td>\n",
       "      <td>1.000000</td>\n",
       "      <td>0.3</td>\n",
       "      <td>0.660714</td>\n",
       "      <td>0.240741</td>\n",
       "      <td>0.0</td>\n",
       "      <td>0.0</td>\n",
       "      <td>0.500000</td>\n",
       "      <td>0.173913</td>\n",
       "      <td>0.526316</td>\n",
       "      <td>0.249035</td>\n",
       "    </tr>\n",
       "    <tr>\n",
       "      <th>4</th>\n",
       "      <td>0.25</td>\n",
       "      <td>0.666667</td>\n",
       "      <td>0.000000</td>\n",
       "      <td>0.0</td>\n",
       "      <td>0.660714</td>\n",
       "      <td>0.370370</td>\n",
       "      <td>0.0</td>\n",
       "      <td>1.0</td>\n",
       "      <td>0.447115</td>\n",
       "      <td>0.043478</td>\n",
       "      <td>0.684211</td>\n",
       "      <td>0.320171</td>\n",
       "    </tr>\n",
       "    <tr>\n",
       "      <th>...</th>\n",
       "      <td>...</td>\n",
       "      <td>...</td>\n",
       "      <td>...</td>\n",
       "      <td>...</td>\n",
       "      <td>...</td>\n",
       "      <td>...</td>\n",
       "      <td>...</td>\n",
       "      <td>...</td>\n",
       "      <td>...</td>\n",
       "      <td>...</td>\n",
       "      <td>...</td>\n",
       "      <td>...</td>\n",
       "    </tr>\n",
       "    <tr>\n",
       "      <th>289</th>\n",
       "      <td>0.25</td>\n",
       "      <td>0.333333</td>\n",
       "      <td>0.303754</td>\n",
       "      <td>0.4</td>\n",
       "      <td>0.660714</td>\n",
       "      <td>0.528979</td>\n",
       "      <td>0.5</td>\n",
       "      <td>0.0</td>\n",
       "      <td>0.000000</td>\n",
       "      <td>0.434783</td>\n",
       "      <td>0.526316</td>\n",
       "      <td>0.430502</td>\n",
       "    </tr>\n",
       "    <tr>\n",
       "      <th>290</th>\n",
       "      <td>0.25</td>\n",
       "      <td>0.333333</td>\n",
       "      <td>0.000000</td>\n",
       "      <td>0.0</td>\n",
       "      <td>0.660714</td>\n",
       "      <td>0.907407</td>\n",
       "      <td>0.0</td>\n",
       "      <td>1.0</td>\n",
       "      <td>0.447115</td>\n",
       "      <td>0.739130</td>\n",
       "      <td>0.210526</td>\n",
       "      <td>0.156371</td>\n",
       "    </tr>\n",
       "    <tr>\n",
       "      <th>291</th>\n",
       "      <td>0.25</td>\n",
       "      <td>0.666667</td>\n",
       "      <td>0.000000</td>\n",
       "      <td>0.0</td>\n",
       "      <td>0.750000</td>\n",
       "      <td>0.518519</td>\n",
       "      <td>0.0</td>\n",
       "      <td>1.0</td>\n",
       "      <td>0.447115</td>\n",
       "      <td>0.608696</td>\n",
       "      <td>0.526316</td>\n",
       "      <td>0.243243</td>\n",
       "    </tr>\n",
       "    <tr>\n",
       "      <th>292</th>\n",
       "      <td>0.25</td>\n",
       "      <td>0.333333</td>\n",
       "      <td>0.000000</td>\n",
       "      <td>0.2</td>\n",
       "      <td>0.660714</td>\n",
       "      <td>0.490741</td>\n",
       "      <td>0.0</td>\n",
       "      <td>0.0</td>\n",
       "      <td>0.000000</td>\n",
       "      <td>0.217391</td>\n",
       "      <td>0.500000</td>\n",
       "      <td>0.332046</td>\n",
       "    </tr>\n",
       "    <tr>\n",
       "      <th>293</th>\n",
       "      <td>0.25</td>\n",
       "      <td>1.000000</td>\n",
       "      <td>0.000000</td>\n",
       "      <td>0.0</td>\n",
       "      <td>0.660714</td>\n",
       "      <td>0.611111</td>\n",
       "      <td>0.0</td>\n",
       "      <td>1.0</td>\n",
       "      <td>0.447115</td>\n",
       "      <td>0.521739</td>\n",
       "      <td>0.657895</td>\n",
       "      <td>0.187259</td>\n",
       "    </tr>\n",
       "  </tbody>\n",
       "</table>\n",
       "<p>294 rows × 12 columns</p>\n",
       "</div>"
      ],
      "text/plain": [
       "       ca        cp     exang  oldpeak      thal   thalach  restecg  sex  \\\n",
       "0    0.25  0.333333  0.000000      0.0  0.660714  0.833333      0.0  1.0   \n",
       "1    0.25  0.666667  0.000000      0.2  0.660714  0.685185      0.0  0.0   \n",
       "2    0.25  0.333333  0.000000      0.0  0.660714  0.148148      0.5  1.0   \n",
       "3    0.25  1.000000  1.000000      0.3  0.660714  0.240741      0.0  0.0   \n",
       "4    0.25  0.666667  0.000000      0.0  0.660714  0.370370      0.0  1.0   \n",
       "..    ...       ...       ...      ...       ...       ...      ...  ...   \n",
       "289  0.25  0.333333  0.303754      0.4  0.660714  0.528979      0.5  0.0   \n",
       "290  0.25  0.333333  0.000000      0.0  0.660714  0.907407      0.0  1.0   \n",
       "291  0.25  0.666667  0.000000      0.0  0.750000  0.518519      0.0  1.0   \n",
       "292  0.25  0.333333  0.000000      0.2  0.660714  0.490741      0.0  0.0   \n",
       "293  0.25  1.000000  0.000000      0.0  0.660714  0.611111      0.0  1.0   \n",
       "\n",
       "        slope   thaldur       age      chol  \n",
       "0    0.447115  0.739130  0.315789  0.393822  \n",
       "1    0.500000  0.391304  0.552632  0.183398  \n",
       "2    0.447115  0.391304  0.236842  0.382239  \n",
       "3    0.500000  0.173913  0.526316  0.249035  \n",
       "4    0.447115  0.043478  0.684211  0.320171  \n",
       "..        ...       ...       ...       ...  \n",
       "289  0.000000  0.434783  0.526316  0.430502  \n",
       "290  0.447115  0.739130  0.210526  0.156371  \n",
       "291  0.447115  0.608696  0.526316  0.243243  \n",
       "292  0.000000  0.217391  0.500000  0.332046  \n",
       "293  0.447115  0.521739  0.657895  0.187259  \n",
       "\n",
       "[294 rows x 12 columns]"
      ]
     },
     "execution_count": 27,
     "metadata": {},
     "output_type": "execute_result"
    }
   ],
   "source": [
    "X = df[features_to_use]\n",
    "y = df['num']\n",
    "X"
   ]
  },
  {
   "cell_type": "code",
   "execution_count": 48,
   "metadata": {
    "ExecuteTime": {
     "end_time": "2020-10-20T11:20:32.683855Z",
     "start_time": "2020-10-20T11:20:32.544889Z"
    }
   },
   "outputs": [
    {
     "name": "stdout",
     "output_type": "stream",
     "text": [
      "svm accuracy score:  80.27210884353741\n",
      "lda accuracy score:  80.61224489795919\n",
      "knn accuracy score:  81.29251700680273\n",
      "svm 2 accuracy score:  80.61224489795919\n",
      "voting accuracy score:  81.63265306122449\n",
      "voting 2 accuracy score:  81.63265306122449\n"
     ]
    }
   ],
   "source": [
    "svm_clf_score = svm_clf.score(X, y) * 100\n",
    "lda_clf_score = lda_clf.score(X, y) * 100\n",
    "knn_clf_score = knn_clf.score(X, y) * 100\n",
    "voting_clf_score = voting_clf.score(X, y) * 100\n",
    "\n",
    "svm_clf_predictions = svm_clf.predict(X)\n",
    "lda_clf_predictions = lda_clf.predict(X)\n",
    "knn_clf_predictions = knn_clf.predict(X)\n",
    "voting_clf_prediction = voting_clf.predict(X)\n",
    "intermediate_dict = {'SVM': svm_clf_predictions, 'LDA': lda_clf_predictions, 'KNN': knn_clf_predictions}\n",
    "intermediate_df = pd.DataFrame(intermediate_dict)\n",
    "intermediate_df_copy = intermediate_df\n",
    "\n",
    "voting_clf_score2 = voting_clf_2.score(intermediate_df, y) * 100\n",
    "voting_clf_prediction_2 = voting_clf_2.predict(intermediate_df)\n",
    "\n",
    "svm_clf_score2 = svm_clf_2.score(intermediate_df,y) * 100\n",
    "svm_clf_predictions_2 = svm_clf_2.predict(intermediate_df)\n",
    "\n",
    "intermediate_dict['SVM_2'] = svm_clf_predictions_2\n",
    "intermediate_dict['voting'] = voting_clf_prediction\n",
    "intermediate_dict['voting_2'] = voting_clf_prediction_2\n",
    "\n",
    "intermediate_df = pd.DataFrame(intermediate_dict)\n",
    "\n",
    "models = {'SVM': svm_clf, 'LDA': lda_clf, 'KNN': knn_clf, 'SVM_2': svm_clf_2, 'voting': voting_clf, 'voting_2': voting_clf_2}\n",
    "\n",
    "print(\"svm accuracy score: \",svm_clf_score)\n",
    "print(\"lda accuracy score: \",lda_clf_score)\n",
    "print(\"knn accuracy score: \",knn_clf_score)\n",
    "print(\"svm 2 accuracy score: \",svm_clf_score2)\n",
    "print(\"voting accuracy score: \",voting_clf_score)\n",
    "print(\"voting 2 accuracy score: \",voting_clf_score2)"
   ]
  },
  {
   "cell_type": "code",
   "execution_count": 49,
   "metadata": {
    "ExecuteTime": {
     "end_time": "2020-10-20T11:20:33.506440Z",
     "start_time": "2020-10-20T11:20:33.254447Z"
    }
   },
   "outputs": [
    {
     "data": {
      "text/html": [
       "<div>\n",
       "<style scoped>\n",
       "    .dataframe tbody tr th:only-of-type {\n",
       "        vertical-align: middle;\n",
       "    }\n",
       "\n",
       "    .dataframe tbody tr th {\n",
       "        vertical-align: top;\n",
       "    }\n",
       "\n",
       "    .dataframe thead th {\n",
       "        text-align: right;\n",
       "    }\n",
       "</style>\n",
       "<table border=\"1\" class=\"dataframe\">\n",
       "  <thead>\n",
       "    <tr style=\"text-align: right;\">\n",
       "      <th></th>\n",
       "      <th>SVM</th>\n",
       "      <th>LDA</th>\n",
       "      <th>KNN</th>\n",
       "      <th>SVM_2</th>\n",
       "      <th>voting</th>\n",
       "      <th>voting_2</th>\n",
       "      <th>SVM_other</th>\n",
       "      <th>LDA_other</th>\n",
       "      <th>KNN_other</th>\n",
       "      <th>SVM_2_other</th>\n",
       "      <th>voting_other</th>\n",
       "      <th>voting_2_other</th>\n",
       "    </tr>\n",
       "  </thead>\n",
       "  <tbody>\n",
       "    <tr>\n",
       "      <th>0</th>\n",
       "      <td>83.288177</td>\n",
       "      <td>84.359606</td>\n",
       "      <td>82.253695</td>\n",
       "      <td>82.931034</td>\n",
       "      <td>84.359606</td>\n",
       "      <td>82.573892</td>\n",
       "      <td>80.272109</td>\n",
       "      <td>80.612245</td>\n",
       "      <td>81.292517</td>\n",
       "      <td>80.612245</td>\n",
       "      <td>81.632653</td>\n",
       "      <td>81.632653</td>\n",
       "    </tr>\n",
       "  </tbody>\n",
       "</table>\n",
       "</div>"
      ],
      "text/plain": [
       "         SVM        LDA        KNN      SVM_2     voting   voting_2  \\\n",
       "0  83.288177  84.359606  82.253695  82.931034  84.359606  82.573892   \n",
       "\n",
       "   SVM_other  LDA_other  KNN_other  SVM_2_other  voting_other  voting_2_other  \n",
       "0  80.272109  80.612245  81.292517    80.612245     81.632653       81.632653  "
      ]
     },
     "execution_count": 49,
     "metadata": {},
     "output_type": "execute_result"
    },
    {
     "data": {
      "image/png": "[encoded data removed]",
      "text/plain": [
       "<Figure size 720x576 with 1 Axes>"
      ]
     },
     "metadata": {},
     "output_type": "display_data"
    }
   ],
   "source": [
    "accuracy_dict = {'SVM': [svm_average_acc], 'LDA': [lda_average_acc], 'KNN': [knn_average_acc], 'SVM_2': [svm_average_acc_2], 'voting':[voting_average_acc], 'voting_2':[voting2_average_acc],'SVM_other': [svm_clf_score], 'LDA_other': [lda_clf_score], 'KNN_other': [knn_clf_score], 'SVM_2_other': [svm_clf_score2], 'voting_other':[voting_clf_score], 'voting_2_other':[voting_clf_score2]}\n",
    "accuracy_df = pd.DataFrame(accuracy_dict)\n",
    "accuracy_df.plot.bar(figsize=(10,8))\n",
    "accuracy_df"
   ]
  },
  {
   "cell_type": "markdown",
   "metadata": {},
   "source": [
    "# Precision and Recall"
   ]
  },
  {
   "cell_type": "code",
   "execution_count": 50,
   "metadata": {
    "ExecuteTime": {
     "end_time": "2020-10-20T11:20:34.505749Z",
     "start_time": "2020-10-20T11:20:34.500487Z"
    }
   },
   "outputs": [],
   "source": [
    "def recall_precision(predict, real):\n",
    "    true_positive = 0\n",
    "    false_positive = 0\n",
    "    false_negative = 0\n",
    "    for i in range (len(predict)):\n",
    "        if predict[i] == 1:\n",
    "            if real[i] == 1:\n",
    "                true_positive+=1\n",
    "            else:\n",
    "                false_positive+=1\n",
    "        else:\n",
    "            if real[i] == 1:\n",
    "                false_negative+=1\n",
    "    precision = true_positive/(true_positive+false_positive)\n",
    "    recall = true_positive/(true_positive+false_negative)\n",
    "    return precision, recall"
   ]
  },
  {
   "cell_type": "code",
   "execution_count": 51,
   "metadata": {
    "ExecuteTime": {
     "end_time": "2020-10-20T11:20:35.116654Z",
     "start_time": "2020-10-20T11:20:35.102633Z"
    }
   },
   "outputs": [
    {
     "data": {
      "text/html": [
       "<div>\n",
       "<style scoped>\n",
       "    .dataframe tbody tr th:only-of-type {\n",
       "        vertical-align: middle;\n",
       "    }\n",
       "\n",
       "    .dataframe tbody tr th {\n",
       "        vertical-align: top;\n",
       "    }\n",
       "\n",
       "    .dataframe thead th {\n",
       "        text-align: right;\n",
       "    }\n",
       "</style>\n",
       "<table border=\"1\" class=\"dataframe\">\n",
       "  <thead>\n",
       "    <tr style=\"text-align: right;\">\n",
       "      <th></th>\n",
       "      <th>SVM</th>\n",
       "      <th>LDA</th>\n",
       "      <th>KNN</th>\n",
       "      <th>SVM_2</th>\n",
       "      <th>voting</th>\n",
       "      <th>voting_2</th>\n",
       "    </tr>\n",
       "  </thead>\n",
       "  <tbody>\n",
       "    <tr>\n",
       "      <th>Precision</th>\n",
       "      <td>0.669014</td>\n",
       "      <td>0.676259</td>\n",
       "      <td>0.688889</td>\n",
       "      <td>0.676259</td>\n",
       "      <td>0.688406</td>\n",
       "      <td>0.683099</td>\n",
       "    </tr>\n",
       "    <tr>\n",
       "      <th>Recall</th>\n",
       "      <td>0.896226</td>\n",
       "      <td>0.886792</td>\n",
       "      <td>0.877358</td>\n",
       "      <td>0.886792</td>\n",
       "      <td>0.896226</td>\n",
       "      <td>0.915094</td>\n",
       "    </tr>\n",
       "  </tbody>\n",
       "</table>\n",
       "</div>"
      ],
      "text/plain": [
       "                SVM       LDA       KNN     SVM_2    voting  voting_2\n",
       "Precision  0.669014  0.676259  0.688889  0.676259  0.688406  0.683099\n",
       "Recall     0.896226  0.886792  0.877358  0.886792  0.896226  0.915094"
      ]
     },
     "execution_count": 51,
     "metadata": {},
     "output_type": "execute_result"
    }
   ],
   "source": [
    "methods = intermediate_df.columns.values\n",
    "recall_precision_acc = {}\n",
    "for method in methods:\n",
    "    precision, recall = recall_precision(intermediate_dict[method],y.values)\n",
    "    recall_precision_acc[method] = [precision, recall]\n",
    "recall_precision_acc_df = pd.DataFrame(recall_precision_acc,index=['Precision','Recall'])\n",
    "recall_precision_acc_df\n",
    "    "
   ]
  },
  {
   "cell_type": "markdown",
   "metadata": {},
   "source": [
    "# AUCROC"
   ]
  },
  {
   "cell_type": "code",
   "execution_count": 63,
   "metadata": {
    "ExecuteTime": {
     "end_time": "2020-10-20T11:39:58.544557Z",
     "start_time": "2020-10-20T11:39:58.212954Z"
    }
   },
   "outputs": [
    {
     "name": "stdout",
     "output_type": "stream",
     "text": [
      "model SVM :    auc:       82.31132075471699 \n",
      "               auc_roc:   82.31132075471699\n",
      "model LDA :    auc:       82.37153753512645 \n",
      "               auc_roc:   82.37153753512645\n",
      "model KNN :    auc:       82.69771176234444 \n",
      "               auc_roc:   82.69771176234444\n",
      "model SVM_2 :    auc:       82.37153753512645 \n",
      "               auc_roc:   82.37153753512645\n",
      "model voting :    auc:       83.37515054195104 \n",
      "               auc_roc:   83.37515054195104\n",
      "model voting_2 :    auc:       83.78663187474909 \n",
      "               auc_roc:   83.78663187474909\n"
     ]
    },
    {
     "data": {
      "text/html": [
       "<div>\n",
       "<style scoped>\n",
       "    .dataframe tbody tr th:only-of-type {\n",
       "        vertical-align: middle;\n",
       "    }\n",
       "\n",
       "    .dataframe tbody tr th {\n",
       "        vertical-align: top;\n",
       "    }\n",
       "\n",
       "    .dataframe thead th {\n",
       "        text-align: right;\n",
       "    }\n",
       "</style>\n",
       "<table border=\"1\" class=\"dataframe\">\n",
       "  <thead>\n",
       "    <tr style=\"text-align: right;\">\n",
       "      <th></th>\n",
       "      <th>SVM</th>\n",
       "      <th>LDA</th>\n",
       "      <th>KNN</th>\n",
       "      <th>SVM_2</th>\n",
       "      <th>voting</th>\n",
       "      <th>voting_2</th>\n",
       "    </tr>\n",
       "  </thead>\n",
       "  <tbody>\n",
       "    <tr>\n",
       "      <th>0</th>\n",
       "      <td>82.311321</td>\n",
       "      <td>82.371538</td>\n",
       "      <td>82.697712</td>\n",
       "      <td>82.371538</td>\n",
       "      <td>83.375151</td>\n",
       "      <td>83.786632</td>\n",
       "    </tr>\n",
       "  </tbody>\n",
       "</table>\n",
       "</div>"
      ],
      "text/plain": [
       "         SVM        LDA        KNN      SVM_2     voting   voting_2\n",
       "0  82.311321  82.371538  82.697712  82.371538  83.375151  83.786632"
      ]
     },
     "execution_count": 63,
     "metadata": {},
     "output_type": "execute_result"
    },
    {
     "data": {
      "image/png": "[encoded data removed]",
      "text/plain": [
       "<Figure size 576x576 with 1 Axes>"
      ]
     },
     "metadata": {},
     "output_type": "display_data"
    }
   ],
   "source": [
    "from sklearn.metrics import roc_curve, auc, roc_auc_score\n",
    "auc_dict = {}\n",
    "def auroc_score(method):\n",
    "    input_data = X\n",
    "    if method == 'SVM_2' or method == 'voting_2':\n",
    "        input_data = intermediate_df_copy\n",
    "    false_positive_rate, true_positive_rate, thresholds = roc_curve(y, models[method].predict(input_data))\n",
    "    auc_model = auc(false_positive_rate,true_positive_rate)*100\n",
    "    auc_roc_model = roc_auc_score(y, models[method].predict(input_data))*100\n",
    "    print('model '+method+' :'+'    auc:      ',auc_model,'\\n               auc_roc:  ',auc_roc_model)\n",
    "    \n",
    "    return auc_model\n",
    "\n",
    "for method in methods:\n",
    "    auc_dict[method] = [auroc_score(method)]\n",
    "auc_df = pd.DataFrame(auc_dict)\n",
    "auc_df.plot.bar(figsize=(8,8))\n",
    "auc_df"
   ]
  },
  {
   "cell_type": "code",
   "execution_count": null,
   "metadata": {},
   "outputs": [],
   "source": []
  }
 ],
 "metadata": {
  "kernelspec": {
   "display_name": "Python 3",
   "language": "python",
   "name": "python3"
  },
  "language_info": {
   "codemirror_mode": {
    "name": "ipython",
    "version": 3
   },
   "file_extension": ".py",
   "mimetype": "text/x-python",
   "name": "python",
   "nbconvert_exporter": "python",
   "pygments_lexer": "ipython3",
   "version": "3.7.0"
  },
  "toc": {
   "base_numbering": 1,
   "nav_menu": {},
   "number_sections": true,
   "sideBar": true,
   "skip_h1_title": false,
   "title_cell": "Table of Contents",
   "title_sidebar": "Contents",
   "toc_cell": false,
   "toc_position": {},
   "toc_section_display": true,
   "toc_window_display": false
  },
  "varInspector": {
   "cols": {
    "lenName": 16,
    "lenType": 16,
    "lenVar": 40
   },
   "kernels_config": {
    "python": {
     "delete_cmd_postfix": "",
     "delete_cmd_prefix": "del ",
     "library": "var_list.py",
     "varRefreshCmd": "print(var_dic_list())"
    },
    "r": {
     "delete_cmd_postfix": ") ",
     "delete_cmd_prefix": "rm(",
     "library": "var_list.r",
     "varRefreshCmd": "cat(var_dic_list()) "
    }
   },
   "types_to_exclude": [
    "module",
    "function",
    "builtin_function_or_method",
    "instance",
    "_Feature"
   ],
   "window_display": false
  }
 },
 "nbformat": 4,
 "nbformat_minor": 4
}
