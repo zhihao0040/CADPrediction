{
 "cells": [
  {
   "cell_type": "markdown",
   "metadata": {},
   "source": [
    "# Prepocessing"
   ]
  },
  {
   "cell_type": "markdown",
   "metadata": {},
   "source": [
    "## import module\n"
   ]
  },
  {
   "cell_type": "code",
   "execution_count": 2,
   "metadata": {
    "ExecuteTime": {
     "end_time": "2020-10-20T10:58:45.895803Z",
     "start_time": "2020-10-20T10:58:44.635787Z"
    }
   },
   "outputs": [
    {
     "name": "stdout",
     "output_type": "stream",
     "text": [
      "['id', 'ccf', 'age', 'sex', 'painloc', 'painexer', 'relrest', 'pncaden', 'cp', 'trestbps', 'htn', 'chol', 'smoke', 'cigs', 'years', 'fbs', 'dm', 'famhist', 'restecg', 'ekgmo', 'ekgday', 'ekgyr', 'dig', 'prop', 'nitr', 'pro', 'diuretic', 'proto', 'thaldur', 'thaltime', 'met', 'thalach', 'thalrest', 'tpeakbps', 'tpeakbpd', 'dummy', 'trestbpd', 'exang', 'xhypo', 'oldpeak', 'slope', 'rldv5', 'rldv5e', 'ca', 'restckm', 'exerckm', 'restef', 'restwm', 'exeref', 'exerwm', 'thal', 'thalsev', 'thalpul', 'earlobe', 'cmo', 'cday', 'cyr', 'num', 'lmt', 'ladprox', 'laddist', 'diag', 'cxmain', 'ramus', 'om1', 'om2', 'rcaprox', 'rcadist', 'lvx1', 'lvx2', 'lvx3', 'lvx4', 'lvf', 'cathef', 'junk']\n"
     ]
    }
   ],
   "source": [
    "import pandas as pd # we are changing num to 0 and 1's cuz we only care if you are going to have a \n",
    "import numpy as np # CAD not what type it is. # target, 0, 1\n",
    "from pandas import read_excel\n",
    "from numpy import set_printoptions\n",
    "from sklearn.feature_selection import SelectKBest\n",
    "from sklearn.feature_selection import f_classif\n",
    "from sklearn.feature_selection import f_regression\n",
    "from sklearn.feature_selection import chi2\n",
    "from sklearn.feature_selection import mutual_info_regression\n",
    "from sklearn.feature_selection import mutual_info_classif\n",
    "from sklearn.feature_selection import VarianceThreshold\n",
    "from sklearn import preprocessing\n",
    "from sklearn.model_selection import KFold\n",
    "from sklearn.svm import SVC\n",
    "from sklearn.metrics import accuracy_score\n",
    "import seaborn as sns\n",
    "import matplotlib.pyplot as plt\n",
    "import functools\n",
    "from sklearn.ensemble import BaggingClassifier\n",
    "import pickle\n",
    "\n",
    "from sklearn.discriminant_analysis import LinearDiscriminantAnalysis\n",
    "from sklearn.neighbors import KNeighborsClassifier\n",
    "\n",
    "\n",
    "K = 13 # the number of features to be selected by each algorithm\n",
    "# code obtained from https://scikit-learn.org/stable/modules/feature_selection.html## \n",
    "f = open(\"C:\\\\Users\\\\jinhan laptop\\\\Desktop\\\\FIT\\\\FIT3162\\\\Assignment\\\\Data_Files\\\\columnNamesUCI.txt\", \"r\")\n",
    "file_str = f.read()\n",
    "f.close()\n",
    "\n",
    "names = file_str.split(\"\\n\")\n",
    "print(names)"
   ]
  },
  {
   "cell_type": "markdown",
   "metadata": {},
   "source": [
    "## Ready the file and print"
   ]
  },
  {
   "cell_type": "code",
   "execution_count": 3,
   "metadata": {
    "ExecuteTime": {
     "end_time": "2020-10-20T10:58:47.684063Z",
     "start_time": "2020-10-20T10:58:47.407935Z"
    }
   },
   "outputs": [
    {
     "name": "stdout",
     "output_type": "stream",
     "text": [
      "      id  ccf  age  sex  painloc  painexer  relrest  pncaden  cp  trestbps  \\\n",
      "0      1    0   63    1       -9        -9       -9       -9   1       145   \n",
      "1      2    0   67    1       -9        -9       -9       -9   4       160   \n",
      "2      3    0   67    1       -9        -9       -9       -9   4       120   \n",
      "3      4    0   37    1       -9        -9       -9       -9   3       130   \n",
      "4      6    0   41    0       -9        -9       -9       -9   2       130   \n",
      "5      7    0   56    1       -9        -9       -9       -9   2       120   \n",
      "6      8    0   62    0       -9        -9       -9       -9   4       140   \n",
      "7      9    0   57    0       -9        -9       -9       -9   4       120   \n",
      "8     10    0   63    1       -9        -9       -9       -9   4       130   \n",
      "9     11    0   53    1       -9        -9       -9       -9   4       140   \n",
      "10    12    0   57    1       -9        -9       -9       -9   4       140   \n",
      "11    13    0   56    0       -9        -9       -9       -9   2       140   \n",
      "12    14    0   56    1       -9        -9       -9       -9   3       130   \n",
      "13    15    0   44    1       -9        -9       -9       -9   2       120   \n",
      "14    16    0   52    1       -9        -9       -9       -9   3       172   \n",
      "15    17    0   57    1       -9        -9       -9       -9   3       150   \n",
      "16    18    0   48    1       -9        -9       -9       -9   2       110   \n",
      "17    19    0   54    1       -9        -9       -9       -9   4       140   \n",
      "18    20    0   48    0       -9        -9       -9       -9   3       130   \n",
      "19    21    0   49    1       -9        -9       -9       -9   2       130   \n",
      "20    22    0   64    1       -9        -9       -9       -9   1       110   \n",
      "21    23    0   58    0       -9        -9       -9       -9   1       150   \n",
      "22    24    0   58    1       -9        -9       -9       -9   2       120   \n",
      "23    25    0   58    1       -9        -9       -9       -9   3       132   \n",
      "24    26    0   60    1       -9        -9       -9       -9   4       130   \n",
      "25    27    0   50    0       -9        -9       -9       -9   3       120   \n",
      "26    28    0   58    0       -9        -9       -9       -9   3       120   \n",
      "27    29    0   66    0       -9        -9       -9       -9   1       150   \n",
      "28    30    0   43    1       -9        -9       -9       -9   4       150   \n",
      "29    31    0   40    1       -9        -9       -9       -9   4       110   \n",
      "..   ...  ...  ...  ...      ...       ...      ...      ...  ..       ...   \n",
      "252  269    0   64    1       -9        -9       -9       -9   4       128   \n",
      "253  270    0   51    0       -9        -9       -9       -9   3       120   \n",
      "254  271    0   43    1       -9        -9       -9       -9   4       115   \n",
      "255  272    0   42    0       -9        -9       -9       -9   3       120   \n",
      "256  273    0   67    0       -9        -9       -9       -9   4       106   \n",
      "257  274    0   76    0       -9        -9       -9       -9   3       140   \n",
      "258  275    0   70    1       -9        -9       -9       -9   2       156   \n",
      "259  276    0   57    1       -9        -9       -9       -9   2       124   \n",
      "260  277    0   44    0       -9        -9       -9       -9   3       118   \n",
      "261  278    0   58    0       -9        -9       -9       -9   2       136   \n",
      "262  279    0   60    0       -9        -9       -9       -9   1       150   \n",
      "263  280    0   44    1       -9        -9       -9       -9   3       120   \n",
      "264  281    0   61    1       -9        -9       -9       -9   4       138   \n",
      "265  282    0   42    1       -9        -9       -9       -9   4       136   \n",
      "266  283    0   52    1       -9        -9       -9       -9   4       128   \n",
      "267  284    0   59    1       -9        -9       -9       -9   3       126   \n",
      "268  285    0   40    1       -9        -9       -9       -9   4       152   \n",
      "269  286    0   42    1       -9        -9       -9       -9   3       130   \n",
      "270  287    0   61    1       -9        -9       -9       -9   4       140   \n",
      "271  288    0   66    1       -9        -9       -9       -9   4       160   \n",
      "272  289    0   46    1       -9        -9       -9       -9   4       140   \n",
      "273  290    0   71    0       -9        -9       -9       -9   4       112   \n",
      "274  291    0   59    1       -9        -9       -9       -9   1       134   \n",
      "275  292    0   64    1       -9        -9       -9       -9   1       170   \n",
      "276  293    0   66    0       -9        -9       -9       -9   3       146   \n",
      "277  294    0   39    0       -9        -9       -9       -9   3       138   \n",
      "278  295    0   57    1       -9        -9       -9       -9   2       154   \n",
      "279  296    0   58    0       -9        -9       -9       -9   4       130   \n",
      "280  297    0   57    1       -9        -9       -9       -9   4       110   \n",
      "281  298    0   47    1       -9        -9       -9       -9   3       130   \n",
      "\n",
      "     ...   om2  rcaprox  rcadist  lvx1  lvx2  lvx3  lvx4  lvf  cathef  junk  \n",
      "0    ...    -9        1        1     1     1     1     1    1      -9    -9  \n",
      "1    ...    -9        1        1     1     1     1     1    1      -9    -9  \n",
      "2    ...    -9        2        2     1     1     1     7    3      -9    -9  \n",
      "3    ...    -9        1        1     1     1     1     1    1      -9    -9  \n",
      "4    ...    -9        1        1     1     1     1     1    1      -9    -9  \n",
      "5    ...    -9        1        1     1     1     1     1    1      -9    -9  \n",
      "6    ...    -9        2        1     1     1     1     7    1      -9    -9  \n",
      "7    ...    -9        1        1     1     1     1     1    1      -9    -9  \n",
      "8    ...    -9        2        1     1     1     6     7    2      -9    -9  \n",
      "9    ...    -9        2        1     1     1     1     1    1      -9    -9  \n",
      "10   ...    -9        1        1     1     1     1     1    1      -9    -9  \n",
      "11   ...    -9        1        1     1     1     1     1    1      -9    -9  \n",
      "12   ...    -9        2        1     1     1     1     3    1      -9    -9  \n",
      "13   ...    -9        1        1     1     1     1     1    1      -9    -9  \n",
      "14   ...    -9        1        1     1     1     1     1    1      -9    -9  \n",
      "15   ...    -9        1        1     1     1     1     1    1      -9    -9  \n",
      "16   ...    -9        1        1     1     1     1     1    1      -9    -9  \n",
      "17   ...    -9        1        1     1     1     1     1    1      -9    -9  \n",
      "18   ...    -9        1        1     1     1     1     1    1      -9    -9  \n",
      "19   ...    -9        1        1     1     1     1     1    1      -9    -9  \n",
      "20   ...    -9        1        1     1     1     1     1    1      -9    -9  \n",
      "21   ...    -9        1        1     1     1     1     1    1      -9    -9  \n",
      "22   ...    -9        1        1     1     1     1     1    1      -9    -9  \n",
      "23   ...    -9        2        1     1     1     1     8    3      -9    -9  \n",
      "24   ...    -9        2        1     1     1     1     1    1      -9    -9  \n",
      "25   ...    -9        1        1     1     1     1     1    1      -9    -9  \n",
      "26   ...    -9        1        1     1     1     1     1    1      -9    -9  \n",
      "27   ...    -9        1        1     1     1     1     1    1      -9    -9  \n",
      "28   ...    -9        1        1     1     1     1     1    1      -9    -9  \n",
      "29   ...    -9        2        1     1     1     1     1    1      -9    -9  \n",
      "..   ...   ...      ...      ...   ...   ...   ...   ...  ...     ...   ...  \n",
      "252  ...    -9        1        1     1     1     1     1    1      -9    -9  \n",
      "253  ...    -9        1        1     1     1     1     1    1      -9    -9  \n",
      "254  ...    -9        1        1     1     1     1     1    1      -9    -9  \n",
      "255  ...    -9        1        1     1     1     1     1    1      -9    -9  \n",
      "256  ...    -9        1        1     1     1     1     1    1      -9    -9  \n",
      "257  ...    -9        1        1     1     1     1     1    1      -9    -9  \n",
      "258  ...    -9        1        1     1     1     1     1    1      -9    -9  \n",
      "259  ...    -9        1        1     1     1     1     1    1      -9    -9  \n",
      "260  ...    -9        1        1     1     1     1     1    1      -9    -9  \n",
      "261  ...    -9        1        2     1     1     1     1    1      -9    -9  \n",
      "262  ...    -9        1        1     1     1     1     1    1      -9    -9  \n",
      "263  ...    -9        1        1     1     1     1     1    1      -9    -9  \n",
      "264  ...    -9        2        1     1     1     1     5    1      -9    -9  \n",
      "265  ...    -9        2        1     1     1     1     1    1      -9    -9  \n",
      "266  ...    -9        1        2     1     1     6     5    2      -9    -9  \n",
      "267  ...    -9        2        1     1     1     1     5    1      -9    -9  \n",
      "268  ...    -9        1        1     1     1     1     1    1      -9    -9  \n",
      "269  ...    -9        1        1     1     1     1     1    1      -9    -9  \n",
      "270  ...    -9        1        1     1     1     1     1    1      -9    -9  \n",
      "271  ...    -9        1        1     1     1     1     1    1      -9    -9  \n",
      "272  ...    -9        2        1     1     1     1     7    1      -9    -9  \n",
      "273  ...    -9        1        1     1     1     1     1    1      -9    -9  \n",
      "274  ...    -9        1        1     1     1     1     1    1      -9    -9  \n",
      "275  ...    -9        1        1     1     1     1     1    1      -9    -9  \n",
      "276  ...    -9        1        1     1     1     1     1    1      -9    -9  \n",
      "277  ...    -9        1        1     1     1     1     1    2      -9    -9  \n",
      "278  ...    -9        1        1     1     1     1     1    1      -9    -9  \n",
      "279  ...    -9        1        1     1     1     1     1    1      -9    -9  \n",
      "280  ...    -9        1        2     1     1     1     1    1      -9    -9  \n",
      "281  ...    -9        1        1     1     1     1     1    1      -9    -9  \n",
      "\n",
      "[282 rows x 75 columns]\n",
      "\n",
      "\n",
      "The result column is: \n",
      "\n",
      " 0      0\n",
      "1      2\n",
      "2      1\n",
      "3      0\n",
      "4      0\n",
      "5      0\n",
      "6      3\n",
      "7      0\n",
      "8      2\n",
      "9      1\n",
      "10     0\n",
      "11     0\n",
      "12     2\n",
      "13     0\n",
      "14     0\n",
      "15     0\n",
      "16     1\n",
      "17     0\n",
      "18     0\n",
      "19     0\n",
      "20     0\n",
      "21     0\n",
      "22     1\n",
      "23     3\n",
      "24     4\n",
      "25     0\n",
      "26     0\n",
      "27     0\n",
      "28     0\n",
      "29     3\n",
      "      ..\n",
      "252    0\n",
      "253    0\n",
      "254    0\n",
      "255    0\n",
      "256    0\n",
      "257    0\n",
      "258    0\n",
      "259    1\n",
      "260    0\n",
      "261    3\n",
      "262    0\n",
      "263    0\n",
      "264    4\n",
      "265    2\n",
      "266    2\n",
      "267    2\n",
      "268    1\n",
      "269    0\n",
      "270    1\n",
      "271    0\n",
      "272    2\n",
      "273    0\n",
      "274    1\n",
      "275    0\n",
      "276    0\n",
      "277    0\n",
      "278    1\n",
      "279    0\n",
      "280    2\n",
      "281    0\n",
      "Name: num, Length: 282, dtype: int64\n"
     ]
    }
   ],
   "source": [
    "fname = \"C:\\\\Users\\\\jinhan laptop\\\\Desktop\\\\FIT\\\\FIT3162\\\\Assignment\\\\Data_Files\\\\updated_cleveland.data.xlsx\"\n",
    "dataframe = read_excel(fname, header = None, names=names)\n",
    "print(dataframe)\n",
    "print(\"\\n\\nThe result column is: \\n\\n\",dataframe.num)"
   ]
  },
  {
   "cell_type": "markdown",
   "metadata": {},
   "source": [
    "## Deal with the empty cell"
   ]
  },
  {
   "cell_type": "code",
   "execution_count": 4,
   "metadata": {
    "ExecuteTime": {
     "end_time": "2020-10-20T10:58:51.438789Z",
     "start_time": "2020-10-20T10:58:49.405374Z"
    },
    "code_folding": []
   },
   "outputs": [
    {
     "name": "stdout",
     "output_type": "stream",
     "text": [
      "The table after dealing with empty cell\n",
      "\n",
      "g       id  ccf  age  sex  cp  trestbps  htn  chol       cigs      years ...   \\\n",
      "0      1    0   63    1   1       145    1   233  50.000000  20.000000 ...    \n",
      "1      2    0   67    1   4       160    1   286  40.000000  40.000000 ...    \n",
      "2      3    0   67    1   4       120    1   229  20.000000  35.000000 ...    \n",
      "3      4    0   37    1   3       130    0   250   0.000000   0.000000 ...    \n",
      "4      6    0   41    0   2       130    1   204   0.000000   0.000000 ...    \n",
      "5      7    0   56    1   2       120    1   236  20.000000  20.000000 ...    \n",
      "6      8    0   62    0   4       140    0   268   0.000000   0.000000 ...    \n",
      "7      9    0   57    0   4       120    1   354   0.000000   0.000000 ...    \n",
      "8     10    0   63    1   4       130    1   254   0.000000   0.000000 ...    \n",
      "9     11    0   53    1   4       140    0   203  20.000000  25.000000 ...    \n",
      "10    12    0   57    1   4       140    0   192  75.000000  25.000000 ...    \n",
      "11    13    0   56    0   2       140    0   294   0.000000   0.000000 ...    \n",
      "12    14    0   56    1   3       130    0   256  30.000000  25.000000 ...    \n",
      "13    15    0   44    1   2       120    1   263  50.000000  30.000000 ...    \n",
      "14    16    0   52    1   3       172    0   199  30.000000  35.000000 ...    \n",
      "15    17    0   57    1   3       150    1   168  15.000000  40.000000 ...    \n",
      "16    18    0   48    1   2       110    1   229   0.000000   0.000000 ...    \n",
      "17    19    0   54    1   4       140    1   239  20.000000  30.000000 ...    \n",
      "18    20    0   48    0   3       130    1   275   2.000000  20.000000 ...    \n",
      "19    21    0   49    1   2       130    1   266  25.000000  22.000000 ...    \n",
      "20    22    0   64    1   1       110    1   211  30.000000  20.000000 ...    \n",
      "21    23    0   58    0   1       150    1   283  16.920578  15.259928 ...    \n",
      "22    24    0   58    1   2       120    0   284   0.000000   0.000000 ...    \n",
      "23    25    0   58    1   3       132    1   224  16.920578  15.259928 ...    \n",
      "24    26    0   60    1   4       130    1   206  50.000000  32.000000 ...    \n",
      "25    27    0   50    0   3       120    0   219  20.000000   8.000000 ...    \n",
      "26    28    0   58    0   3       120    1   340   0.000000   0.000000 ...    \n",
      "27    29    0   66    0   1       150    0   226   0.000000   0.000000 ...    \n",
      "28    30    0   43    1   4       150    0   247  10.000000  30.000000 ...    \n",
      "29    31    0   40    1   4       110    0   167   0.000000   0.000000 ...    \n",
      "..   ...  ...  ...  ...  ..       ...  ...   ...        ...        ... ...    \n",
      "252  269    0   64    1   4       128    0   263  40.000000  35.000000 ...    \n",
      "253  270    0   51    0   3       120    0   295   0.000000   0.000000 ...    \n",
      "254  271    0   43    1   4       115    1   303   0.000000   0.000000 ...    \n",
      "255  272    0   42    0   3       120    1   209  28.000000  30.000000 ...    \n",
      "256  273    0   67    0   4       106    1   223  20.000000  50.000000 ...    \n",
      "257  274    0   76    0   3       140    0   197   0.000000   0.000000 ...    \n",
      "258  275    0   70    1   2       156    0   245   0.000000   0.000000 ...    \n",
      "259  276    0   57    1   2       124    1   261  20.000000  35.000000 ...    \n",
      "260  277    0   44    0   3       118    0   242  20.000000  20.000000 ...    \n",
      "261  278    0   58    0   2       136    0   319  10.000000  25.000000 ...    \n",
      "262  279    0   60    0   1       150    1   240   0.000000   0.000000 ...    \n",
      "263  280    0   44    1   3       120    0   226  80.000000   4.000000 ...    \n",
      "264  281    0   61    1   4       138    0   166  40.000000   4.000000 ...    \n",
      "265  282    0   42    1   4       136    0   315  40.000000  18.000000 ...    \n",
      "266  283    0   52    1   4       128    1   204   0.000000   0.000000 ...    \n",
      "267  284    0   59    1   3       126    0   218   0.000000   0.000000 ...    \n",
      "268  285    0   40    1   4       152    1   223  25.000000  27.000000 ...    \n",
      "269  286    0   42    1   3       130    0   180   0.000000   0.000000 ...    \n",
      "270  287    0   61    1   4       140    0   207  20.000000  20.000000 ...    \n",
      "271  288    0   66    1   4       160    0   228   0.000000   0.000000 ...    \n",
      "272  289    0   46    1   4       140    1   311  15.000000  25.000000 ...    \n",
      "273  290    0   71    0   4       112    1   149   0.000000   0.000000 ...    \n",
      "274  291    0   59    1   1       134    1   204   2.000000  35.000000 ...    \n",
      "275  292    0   64    1   1       170    0   227   0.000000   0.000000 ...    \n",
      "276  293    0   66    0   3       146    0   278   0.000000   0.000000 ...    \n",
      "277  294    0   39    0   3       138    1   220  20.000000  23.000000 ...    \n",
      "278  295    0   57    1   2       154    0   232  40.000000  35.000000 ...    \n",
      "279  296    0   58    0   4       130    1   197   0.000000   0.000000 ...    \n",
      "280  297    0   57    1   4       110    1   335  20.000000  15.000000 ...    \n",
      "281  298    0   47    1   3       130    1   253   0.000000   0.000000 ...    \n",
      "\n",
      "     laddist  cxmain  om1  rcaprox  rcadist  lvx1  lvx2  lvx3  lvx4  lvf  \n",
      "0          1       1    1        1        1     1     1     1     1    1  \n",
      "1          2       2    1        1        1     1     1     1     1    1  \n",
      "2          1       1    1        2        2     1     1     1     7    3  \n",
      "3          1       1    1        1        1     1     1     1     1    1  \n",
      "4          1       1    1        1        1     1     1     1     1    1  \n",
      "5          1       1    1        1        1     1     1     1     1    1  \n",
      "6          1       1    2        2        1     1     1     1     7    1  \n",
      "7          1       1    1        1        1     1     1     1     1    1  \n",
      "8          1       1    1        2        1     1     1     6     7    2  \n",
      "9          1       1    1        2        1     1     1     1     1    1  \n",
      "10         1       1    1        1        1     1     1     1     1    1  \n",
      "11         1       1    1        1        1     1     1     1     1    1  \n",
      "12         1       1    1        2        1     1     1     1     3    1  \n",
      "13         1       1    1        1        1     1     1     1     1    1  \n",
      "14         1       1    1        1        1     1     1     1     1    1  \n",
      "15         1       1    1        1        1     1     1     1     1    1  \n",
      "16         1       2    1        1        1     1     1     1     1    1  \n",
      "17         1       1    1        1        1     1     1     1     1    1  \n",
      "18         1       1    1        1        1     1     1     1     1    1  \n",
      "19         1       1    1        1        1     1     1     1     1    1  \n",
      "20         1       1    1        1        1     1     1     1     1    1  \n",
      "21         1       1    1        1        1     1     1     1     1    1  \n",
      "22         2       1    1        1        1     1     1     1     1    1  \n",
      "23         2       1    2        2        1     1     1     1     8    3  \n",
      "24         1       2    1        2        1     1     1     1     1    1  \n",
      "25         1       1    1        1        1     1     1     1     1    1  \n",
      "26         1       1    1        1        1     1     1     1     1    1  \n",
      "27         1       1    1        1        1     1     1     1     1    1  \n",
      "28         1       1    1        1        1     1     1     1     1    1  \n",
      "29         2       1    2        2        1     1     1     1     1    1  \n",
      "..       ...     ...  ...      ...      ...   ...   ...   ...   ...  ...  \n",
      "252        1       1    1        1        1     1     1     1     1    1  \n",
      "253        1       1    1        1        1     1     1     1     1    1  \n",
      "254        1       1    1        1        1     1     1     1     1    1  \n",
      "255        1       1    1        1        1     1     1     1     1    1  \n",
      "256        1       1    1        1        1     1     1     1     1    1  \n",
      "257        1       1    1        1        1     1     1     1     1    1  \n",
      "258        1       1    1        1        1     1     1     1     1    1  \n",
      "259        1       1    2        1        1     1     1     1     1    1  \n",
      "260        1       1    1        1        1     1     1     1     1    1  \n",
      "261        2       2    1        1        2     1     1     1     1    1  \n",
      "262        1       1    1        1        1     1     1     1     1    1  \n",
      "263        1       1    1        1        1     1     1     1     1    1  \n",
      "264        2       1    2        2        1     1     1     1     5    1  \n",
      "265        1       2    1        2        1     1     1     1     1    1  \n",
      "266        1       2    2        1        2     1     1     6     5    2  \n",
      "267        2       1    1        2        1     1     1     1     5    1  \n",
      "268        2       1    1        1        1     1     1     1     1    1  \n",
      "269        1       1    1        1        1     1     1     1     1    1  \n",
      "270        2       1    1        1        1     1     1     1     1    1  \n",
      "271        1       1    1        1        1     1     1     1     1    1  \n",
      "272        2       1    1        2        1     1     1     1     7    1  \n",
      "273        1       1    1        1        1     1     1     1     1    1  \n",
      "274        2       1    1        1        1     1     1     1     1    1  \n",
      "275        1       1    1        1        1     1     1     1     1    1  \n",
      "276        1       1    1        1        1     1     1     1     1    1  \n",
      "277        1       1    1        1        1     1     1     1     1    2  \n",
      "278        1       2    1        1        1     1     1     1     1    1  \n",
      "279        1       1    1        1        1     1     1     1     1    1  \n",
      "280        1       1    2        1        2     1     1     1     1    1  \n",
      "281        1       1    1        1        1     1     1     1     1    1  \n",
      "\n",
      "[282 rows x 55 columns]\n"
     ]
    }
   ],
   "source": [
    "# fill empty cell with NaN\n",
    "for i in range(dataframe.shape[0]):\n",
    "    for column in dataframe.columns:\n",
    "        if dataframe.at[i, column] == -9:\n",
    "            dataframe.loc[i, column] = np.nan\n",
    "# we fill NaN value with the mean of the column containning NaN\n",
    "df = dataframe.fillna(dataframe.mean())\n",
    "# we drop the column that contains all NaN value\n",
    "df = df.dropna(axis=1,how='all')\n",
    "print(\"The table after dealing with empty cell\\n\\ng\",df)"
   ]
  },
  {
   "cell_type": "markdown",
   "metadata": {},
   "source": [
    "## Remove the column which less impact on the prediction"
   ]
  },
  {
   "cell_type": "code",
   "execution_count": 6,
   "metadata": {
    "ExecuteTime": {
     "end_time": "2020-10-20T10:58:53.146755Z",
     "start_time": "2020-10-20T10:58:53.127366Z"
    }
   },
   "outputs": [
    {
     "ename": "KeyError",
     "evalue": "\"['dummy' 'id' 'ekgyr' 'ekgday' 'ekgmo' 'ccf' 'cmo' 'cday' 'cyr'] not found in axis\"",
     "output_type": "error",
     "traceback": [
      "\u001b[1;31m---------------------------------------------------------------------------\u001b[0m",
      "\u001b[1;31mKeyError\u001b[0m                                  Traceback (most recent call last)",
      "\u001b[1;32m<ipython-input-6-9fdd06e191f1>\u001b[0m in \u001b[0;36m<module>\u001b[1;34m\u001b[0m\n\u001b[0;32m      1\u001b[0m \u001b[1;31m# we drop dummy column because it is trestbps column, the others is not used for prediction\u001b[0m\u001b[1;33m\u001b[0m\u001b[1;33m\u001b[0m\u001b[1;33m\u001b[0m\u001b[0m\n\u001b[1;32m----> 2\u001b[1;33m \u001b[0mdf\u001b[0m \u001b[1;33m=\u001b[0m \u001b[0mdf\u001b[0m\u001b[1;33m.\u001b[0m\u001b[0mdrop\u001b[0m\u001b[1;33m(\u001b[0m\u001b[1;33m[\u001b[0m\u001b[1;34m'dummy'\u001b[0m\u001b[1;33m,\u001b[0m \u001b[1;34m'id'\u001b[0m\u001b[1;33m,\u001b[0m \u001b[1;34m'ekgyr'\u001b[0m\u001b[1;33m,\u001b[0m \u001b[1;34m'ekgday'\u001b[0m\u001b[1;33m,\u001b[0m \u001b[1;34m'ekgmo'\u001b[0m\u001b[1;33m,\u001b[0m \u001b[1;34m'ccf'\u001b[0m\u001b[1;33m,\u001b[0m \u001b[1;34m'cmo'\u001b[0m\u001b[1;33m,\u001b[0m \u001b[1;34m'cday'\u001b[0m\u001b[1;33m,\u001b[0m \u001b[1;34m'cyr'\u001b[0m\u001b[1;33m]\u001b[0m\u001b[1;33m,\u001b[0m \u001b[0maxis\u001b[0m\u001b[1;33m=\u001b[0m\u001b[1;36m1\u001b[0m\u001b[1;33m)\u001b[0m\u001b[1;33m\u001b[0m\u001b[1;33m\u001b[0m\u001b[0m\n\u001b[0m\u001b[0;32m      3\u001b[0m \u001b[0mprint\u001b[0m\u001b[1;33m(\u001b[0m\u001b[1;34m\"Shape of the data after removing the unpredicted column\"\u001b[0m\u001b[1;33m,\u001b[0m\u001b[0mdf\u001b[0m\u001b[1;33m.\u001b[0m\u001b[0mshape\u001b[0m\u001b[1;33m)\u001b[0m\u001b[1;33m\u001b[0m\u001b[1;33m\u001b[0m\u001b[0m\n\u001b[0;32m      4\u001b[0m \u001b[0mmyGenderColumn\u001b[0m \u001b[1;33m=\u001b[0m \u001b[0mdf\u001b[0m\u001b[1;33m[\u001b[0m\u001b[1;34m\"sex\"\u001b[0m\u001b[1;33m]\u001b[0m\u001b[1;33m\u001b[0m\u001b[1;33m\u001b[0m\u001b[0m\n\u001b[0;32m      5\u001b[0m \u001b[0mmyExangColumn\u001b[0m \u001b[1;33m=\u001b[0m \u001b[0mdf\u001b[0m\u001b[1;33m[\u001b[0m\u001b[1;34m\"exang\"\u001b[0m\u001b[1;33m]\u001b[0m\u001b[1;33m\u001b[0m\u001b[1;33m\u001b[0m\u001b[0m\n",
      "\u001b[1;32m~\\Anaconda3\\lib\\site-packages\\pandas\\core\\frame.py\u001b[0m in \u001b[0;36mdrop\u001b[1;34m(self, labels, axis, index, columns, level, inplace, errors)\u001b[0m\n\u001b[0;32m   3695\u001b[0m                                            \u001b[0mindex\u001b[0m\u001b[1;33m=\u001b[0m\u001b[0mindex\u001b[0m\u001b[1;33m,\u001b[0m \u001b[0mcolumns\u001b[0m\u001b[1;33m=\u001b[0m\u001b[0mcolumns\u001b[0m\u001b[1;33m,\u001b[0m\u001b[1;33m\u001b[0m\u001b[1;33m\u001b[0m\u001b[0m\n\u001b[0;32m   3696\u001b[0m                                            \u001b[0mlevel\u001b[0m\u001b[1;33m=\u001b[0m\u001b[0mlevel\u001b[0m\u001b[1;33m,\u001b[0m \u001b[0minplace\u001b[0m\u001b[1;33m=\u001b[0m\u001b[0minplace\u001b[0m\u001b[1;33m,\u001b[0m\u001b[1;33m\u001b[0m\u001b[1;33m\u001b[0m\u001b[0m\n\u001b[1;32m-> 3697\u001b[1;33m                                            errors=errors)\n\u001b[0m\u001b[0;32m   3698\u001b[0m \u001b[1;33m\u001b[0m\u001b[0m\n\u001b[0;32m   3699\u001b[0m     @rewrite_axis_style_signature('mapper', [('copy', True),\n",
      "\u001b[1;32m~\\Anaconda3\\lib\\site-packages\\pandas\\core\\generic.py\u001b[0m in \u001b[0;36mdrop\u001b[1;34m(self, labels, axis, index, columns, level, inplace, errors)\u001b[0m\n\u001b[0;32m   3109\u001b[0m         \u001b[1;32mfor\u001b[0m \u001b[0maxis\u001b[0m\u001b[1;33m,\u001b[0m \u001b[0mlabels\u001b[0m \u001b[1;32min\u001b[0m \u001b[0maxes\u001b[0m\u001b[1;33m.\u001b[0m\u001b[0mitems\u001b[0m\u001b[1;33m(\u001b[0m\u001b[1;33m)\u001b[0m\u001b[1;33m:\u001b[0m\u001b[1;33m\u001b[0m\u001b[1;33m\u001b[0m\u001b[0m\n\u001b[0;32m   3110\u001b[0m             \u001b[1;32mif\u001b[0m \u001b[0mlabels\u001b[0m \u001b[1;32mis\u001b[0m \u001b[1;32mnot\u001b[0m \u001b[1;32mNone\u001b[0m\u001b[1;33m:\u001b[0m\u001b[1;33m\u001b[0m\u001b[1;33m\u001b[0m\u001b[0m\n\u001b[1;32m-> 3111\u001b[1;33m                 \u001b[0mobj\u001b[0m \u001b[1;33m=\u001b[0m \u001b[0mobj\u001b[0m\u001b[1;33m.\u001b[0m\u001b[0m_drop_axis\u001b[0m\u001b[1;33m(\u001b[0m\u001b[0mlabels\u001b[0m\u001b[1;33m,\u001b[0m \u001b[0maxis\u001b[0m\u001b[1;33m,\u001b[0m \u001b[0mlevel\u001b[0m\u001b[1;33m=\u001b[0m\u001b[0mlevel\u001b[0m\u001b[1;33m,\u001b[0m \u001b[0merrors\u001b[0m\u001b[1;33m=\u001b[0m\u001b[0merrors\u001b[0m\u001b[1;33m)\u001b[0m\u001b[1;33m\u001b[0m\u001b[1;33m\u001b[0m\u001b[0m\n\u001b[0m\u001b[0;32m   3112\u001b[0m \u001b[1;33m\u001b[0m\u001b[0m\n\u001b[0;32m   3113\u001b[0m         \u001b[1;32mif\u001b[0m \u001b[0minplace\u001b[0m\u001b[1;33m:\u001b[0m\u001b[1;33m\u001b[0m\u001b[1;33m\u001b[0m\u001b[0m\n",
      "\u001b[1;32m~\\Anaconda3\\lib\\site-packages\\pandas\\core\\generic.py\u001b[0m in \u001b[0;36m_drop_axis\u001b[1;34m(self, labels, axis, level, errors)\u001b[0m\n\u001b[0;32m   3141\u001b[0m                 \u001b[0mnew_axis\u001b[0m \u001b[1;33m=\u001b[0m \u001b[0maxis\u001b[0m\u001b[1;33m.\u001b[0m\u001b[0mdrop\u001b[0m\u001b[1;33m(\u001b[0m\u001b[0mlabels\u001b[0m\u001b[1;33m,\u001b[0m \u001b[0mlevel\u001b[0m\u001b[1;33m=\u001b[0m\u001b[0mlevel\u001b[0m\u001b[1;33m,\u001b[0m \u001b[0merrors\u001b[0m\u001b[1;33m=\u001b[0m\u001b[0merrors\u001b[0m\u001b[1;33m)\u001b[0m\u001b[1;33m\u001b[0m\u001b[1;33m\u001b[0m\u001b[0m\n\u001b[0;32m   3142\u001b[0m             \u001b[1;32melse\u001b[0m\u001b[1;33m:\u001b[0m\u001b[1;33m\u001b[0m\u001b[1;33m\u001b[0m\u001b[0m\n\u001b[1;32m-> 3143\u001b[1;33m                 \u001b[0mnew_axis\u001b[0m \u001b[1;33m=\u001b[0m \u001b[0maxis\u001b[0m\u001b[1;33m.\u001b[0m\u001b[0mdrop\u001b[0m\u001b[1;33m(\u001b[0m\u001b[0mlabels\u001b[0m\u001b[1;33m,\u001b[0m \u001b[0merrors\u001b[0m\u001b[1;33m=\u001b[0m\u001b[0merrors\u001b[0m\u001b[1;33m)\u001b[0m\u001b[1;33m\u001b[0m\u001b[1;33m\u001b[0m\u001b[0m\n\u001b[0m\u001b[0;32m   3144\u001b[0m             \u001b[0mresult\u001b[0m \u001b[1;33m=\u001b[0m \u001b[0mself\u001b[0m\u001b[1;33m.\u001b[0m\u001b[0mreindex\u001b[0m\u001b[1;33m(\u001b[0m\u001b[1;33m**\u001b[0m\u001b[1;33m{\u001b[0m\u001b[0maxis_name\u001b[0m\u001b[1;33m:\u001b[0m \u001b[0mnew_axis\u001b[0m\u001b[1;33m}\u001b[0m\u001b[1;33m)\u001b[0m\u001b[1;33m\u001b[0m\u001b[1;33m\u001b[0m\u001b[0m\n\u001b[0;32m   3145\u001b[0m \u001b[1;33m\u001b[0m\u001b[0m\n",
      "\u001b[1;32m~\\Anaconda3\\lib\\site-packages\\pandas\\core\\indexes\\base.py\u001b[0m in \u001b[0;36mdrop\u001b[1;34m(self, labels, errors)\u001b[0m\n\u001b[0;32m   4402\u001b[0m             \u001b[1;32mif\u001b[0m \u001b[0merrors\u001b[0m \u001b[1;33m!=\u001b[0m \u001b[1;34m'ignore'\u001b[0m\u001b[1;33m:\u001b[0m\u001b[1;33m\u001b[0m\u001b[1;33m\u001b[0m\u001b[0m\n\u001b[0;32m   4403\u001b[0m                 raise KeyError(\n\u001b[1;32m-> 4404\u001b[1;33m                     '{} not found in axis'.format(labels[mask]))\n\u001b[0m\u001b[0;32m   4405\u001b[0m             \u001b[0mindexer\u001b[0m \u001b[1;33m=\u001b[0m \u001b[0mindexer\u001b[0m\u001b[1;33m[\u001b[0m\u001b[1;33m~\u001b[0m\u001b[0mmask\u001b[0m\u001b[1;33m]\u001b[0m\u001b[1;33m\u001b[0m\u001b[1;33m\u001b[0m\u001b[0m\n\u001b[0;32m   4406\u001b[0m         \u001b[1;32mreturn\u001b[0m \u001b[0mself\u001b[0m\u001b[1;33m.\u001b[0m\u001b[0mdelete\u001b[0m\u001b[1;33m(\u001b[0m\u001b[0mindexer\u001b[0m\u001b[1;33m)\u001b[0m\u001b[1;33m\u001b[0m\u001b[1;33m\u001b[0m\u001b[0m\n",
      "\u001b[1;31mKeyError\u001b[0m: \"['dummy' 'id' 'ekgyr' 'ekgday' 'ekgmo' 'ccf' 'cmo' 'cday' 'cyr'] not found in axis\""
     ]
    }
   ],
   "source": [
    "# we drop dummy column because it is trestbps column, the others is not used for prediction\n",
    "df = df.drop(['dummy', 'id', 'ekgyr', 'ekgday', 'ekgmo', 'ccf', 'cmo', 'cday', 'cyr'], axis=1)\n",
    "print(\"Shape of the data after removing the unpredicted column\",df.shape)\n",
    "myGenderColumn = df[\"sex\"]\n",
    "myExangColumn = df[\"exang\"]\n",
    "myFBSColumn = df[\"fbs\"]\n",
    "myResult = df[\"num\"]\n",
    "# take 4 important columns we don't want to be eliminate by variance thredshoud from the dataframe\n",
    "df = df.drop([\"sex\",\"exang\",\"fbs\",\"num\"],axis=1)\n",
    "# perform variance thredshold\n",
    "selector = VarianceThreshold(0.225)\n",
    "selector.fit(df)\n",
    "df= df[df.columns[selector.get_support()]]\n",
    "# add the 4 column back\n",
    "df = df.join(myExangColumn)\n",
    "df = df.join(myFBSColumn)\n",
    "df = df.join(myGenderColumn)\n",
    "df = df.join(myResult)\n",
    "print(\"Shape of the column after removing the low variance column\",df.shape)\n"
   ]
  },
  {
   "cell_type": "markdown",
   "metadata": {},
   "source": [
    "## normalize the data"
   ]
  },
  {
   "cell_type": "code",
   "execution_count": null,
   "metadata": {
    "ExecuteTime": {
     "end_time": "2020-10-20T10:58:54.573977Z",
     "start_time": "2020-10-20T10:58:54.554777Z"
    }
   },
   "outputs": [],
   "source": [
    "# returns a numpy array\n",
    "x = df.values\n",
    "df_temp = df\n",
    "# normalize data\n",
    "min_max_scaler = preprocessing.MinMaxScaler()\n",
    "min_max_scaler.fit(x)\n",
    "x_scaled = min_max_scaler.transform(x)\n",
    "df = pd.DataFrame(x_scaled, columns = df.columns)\n",
    "# make value in result column a 0,1. Turn it into binary classification\n",
    "df.loc[df[\"num\"] > 0, \"num\"] = 1\n",
    "print(df)"
   ]
  },
  {
   "cell_type": "markdown",
   "metadata": {},
   "source": [
    "# Feature Selection"
   ]
  },
  {
   "cell_type": "markdown",
   "metadata": {},
   "source": [
    "## Prepare data"
   ]
  },
  {
   "cell_type": "code",
   "execution_count": null,
   "metadata": {
    "ExecuteTime": {
     "end_time": "2020-10-20T10:58:56.371605Z",
     "start_time": "2020-10-20T10:58:56.354519Z"
    }
   },
   "outputs": [],
   "source": [
    "y = df[\"num\"]\n",
    "X = df.drop(\"num\",axis=1)\n",
    "print(\"The input: \\n\\n\",X)\n",
    "print(\"The output: \\n\\n\",y)"
   ]
  },
  {
   "cell_type": "markdown",
   "metadata": {},
   "source": [
    "## f_classification selection"
   ]
  },
  {
   "cell_type": "code",
   "execution_count": null,
   "metadata": {
    "ExecuteTime": {
     "end_time": "2020-10-20T10:58:57.593241Z",
     "start_time": "2020-10-20T10:58:57.583920Z"
    }
   },
   "outputs": [],
   "source": [
    "selector = SelectKBest(f_classif, k = K)\n",
    "selector.fit_transform(X,y)\n",
    "features = selector.get_support(indices = True)\n",
    "f_classification = [column for column in df.columns[features]]\n",
    "print(f_classification)"
   ]
  },
  {
   "cell_type": "markdown",
   "metadata": {},
   "source": [
    "## mutual_info_regression selection"
   ]
  },
  {
   "cell_type": "code",
   "execution_count": null,
   "metadata": {
    "ExecuteTime": {
     "end_time": "2020-10-20T10:58:58.767357Z",
     "start_time": "2020-10-20T10:58:58.648555Z"
    }
   },
   "outputs": [],
   "source": [
    "selector = SelectKBest(mutual_info_regression, k = K)\n",
    "selector.fit_transform(X,y)\n",
    "features = selector.get_support(indices = True)\n",
    "mutual_info_regression = [column for column in df.columns[features]]\n",
    "print(mutual_info_regression)"
   ]
  },
  {
   "cell_type": "markdown",
   "metadata": {},
   "source": [
    "## f_regression selection"
   ]
  },
  {
   "cell_type": "code",
   "execution_count": null,
   "metadata": {
    "ExecuteTime": {
     "end_time": "2020-10-20T10:58:59.930273Z",
     "start_time": "2020-10-20T10:58:59.921406Z"
    }
   },
   "outputs": [],
   "source": [
    "selector = SelectKBest(f_regression, k = K)\n",
    "selector.fit_transform(X,y)\n",
    "features = selector.get_support(indices = True)\n",
    "f_regression = [column for column in df.columns[features]]\n",
    "print(f_regression)"
   ]
  },
  {
   "cell_type": "markdown",
   "metadata": {},
   "source": [
    "## Chi2 selection"
   ]
  },
  {
   "cell_type": "code",
   "execution_count": null,
   "metadata": {
    "ExecuteTime": {
     "end_time": "2020-10-20T10:59:01.968232Z",
     "start_time": "2020-10-20T10:59:01.958496Z"
    }
   },
   "outputs": [],
   "source": [
    "selector = SelectKBest(chi2, k = K)\n",
    "selector.fit_transform(X,y)\n",
    "features = selector.get_support(indices = True)\n",
    "chi2 = [column for column in df.columns[features]]\n",
    "print(chi2)"
   ]
  },
  {
   "cell_type": "markdown",
   "metadata": {},
   "source": [
    "## mutual_info_classif selection"
   ]
  },
  {
   "cell_type": "code",
   "execution_count": null,
   "metadata": {
    "ExecuteTime": {
     "end_time": "2020-10-20T10:59:03.365684Z",
     "start_time": "2020-10-20T10:59:03.263145Z"
    }
   },
   "outputs": [],
   "source": [
    "selector = SelectKBest(mutual_info_classif, k = K)\n",
    "selector.fit_transform(X,y)\n",
    "features = selector.get_support(indices = True)\n",
    "mutual_info_classif = [column for column in df.columns[features]]\n",
    "print(mutual_info_classif)"
   ]
  },
  {
   "cell_type": "markdown",
   "metadata": {},
   "source": [
    "## Select feature"
   ]
  },
  {
   "cell_type": "code",
   "execution_count": null,
   "metadata": {
    "ExecuteTime": {
     "end_time": "2020-10-20T10:59:05.083222Z",
     "start_time": "2020-10-20T10:59:05.078506Z"
    }
   },
   "outputs": [],
   "source": [
    "features_selected = f_classification + mutual_info_regression + f_regression + chi2 + mutual_info_classif\n",
    "features_selected.sort()\n",
    "features_dict = {}\n",
    "for feature in features_selected:\n",
    "    if not feature in features_dict:\n",
    "        features_dict[feature] = features_selected.count(feature)\n",
    "sorted_features = sorted(features_dict.items(), key=lambda x: x[1], reverse=True)\n",
    "print(sorted_features)"
   ]
  },
  {
   "cell_type": "code",
   "execution_count": null,
   "metadata": {
    "ExecuteTime": {
     "end_time": "2020-10-20T10:59:05.709382Z",
     "start_time": "2020-10-20T10:59:05.704933Z"
    }
   },
   "outputs": [],
   "source": [
    "# choose the features which are selected by many selector and eliminate not-known feature\n",
    "features_to_use = []\n",
    "for feature in sorted_features:\n",
    "    if feature[1] >= 2:\n",
    "        if feature[0] != 'lvx4'and feature[0] != 'lvx3' and feature[0] != 'htn' and feature[0] != 'thaltime' and feature[0] != 'met':\n",
    "            features_to_use.append(feature[0])\n",
    "print(features_to_use)"
   ]
  },
  {
   "cell_type": "code",
   "execution_count": null,
   "metadata": {
    "ExecuteTime": {
     "end_time": "2020-10-20T10:59:06.414047Z",
     "start_time": "2020-10-20T10:59:06.399621Z"
    }
   },
   "outputs": [],
   "source": [
    "X = df[features_to_use] #data used for training\n",
    "# we need to store the min and range of data feature and the chosen feature for implementing normalization on website\n",
    "# 's user data.\n",
    "df_temp = df_temp[features_to_use]\n",
    "min_max_scaler = preprocessing.MinMaxScaler()\n",
    "min_max_scaler.fit(df_temp.values) #perform min_max scaler on copy of origin data\n",
    "min_data = min_max_scaler.data_min_ #min_data of chosen features \n",
    "range_data = min_max_scaler.data_range_ #range data of chosen features\n",
    "\n",
    "def convertToString(arr):\n",
    "    \"\"\"\n",
    "    param: arr: int array\n",
    "    this function convert the int array to string array\n",
    "    return: string array\n",
    "    \"\"\"\n",
    "    modified_arr = []\n",
    "    for item in arr:\n",
    "        modified_arr.append(str(item))\n",
    "    return modified_arr\n",
    "    \n",
    "min_data=convertToString(min_data)\n",
    "range_data=convertToString(range_data)\n",
    "\n",
    "separator = \" \"\n",
    "#write the chosen feature and information about chosen feature into chosen_feature.txt\n",
    "chosen_feature = open(\"chosen_feature.txt\",'w')\n",
    "chosen_feature.writelines(separator.join(features_to_use)+'\\n')\n",
    "chosen_feature.writelines(separator.join(min_data)+'\\n')\n",
    "chosen_feature.writelines(separator.join(range_data))\n",
    "chosen_feature.close()\n",
    "print(X)"
   ]
  },
  {
   "cell_type": "markdown",
   "metadata": {},
   "source": [
    "# Train model and test the accuracy"
   ]
  },
  {
   "cell_type": "code",
   "execution_count": null,
   "metadata": {
    "ExecuteTime": {
     "end_time": "2020-10-20T10:59:11.743907Z",
     "start_time": "2020-10-20T10:59:11.738881Z"
    },
    "scrolled": true
   },
   "outputs": [],
   "source": [
    "num_folds = 10\n",
    "kf = KFold(n_splits = num_folds)\n",
    "kf.get_n_splits(X)"
   ]
  },
  {
   "cell_type": "markdown",
   "metadata": {},
   "source": [
    "## support function "
   ]
  },
  {
   "cell_type": "code",
   "execution_count": null,
   "metadata": {
    "ExecuteTime": {
     "end_time": "2020-10-20T10:59:13.006350Z",
     "start_time": "2020-10-20T10:59:12.994916Z"
    }
   },
   "outputs": [],
   "source": [
    "# store result of the model prediction in intermediate_dict\n",
    "intermediate_dict = {\"SVM\": [], \"LDA\": [], \"KNN\": []}\n",
    "from sklearn.model_selection import cross_val_score\n",
    "\n",
    "def k_fold_classifier_acc_tester(clf, my_dict, nameOfColumn, X, y, filename=None):\n",
    "    \"\"\"\n",
    "    this function trains and tests model accuracy by using K-fold method\n",
    "    params: \n",
    "        clf: the model\n",
    "        my_dict: store the model prediction result \n",
    "        nameOfColumn: name of column in dict\n",
    "        df: data frame contain input\n",
    "        df_target: output\n",
    "        filename: name of the file to store the trained model which has the highest accuracy\n",
    "    return: accuracy array\n",
    "    \"\"\"\n",
    "    \n",
    "    accuracy_model = []\n",
    "    models = []\n",
    "    max_id = 0\n",
    "    for train_index, test_index in kf.split(X, y):\n",
    "        X_train , X_test = X.iloc[train_index], X.iloc[test_index]\n",
    "        y_train, y_test = y[train_index], y[test_index]\n",
    "        model = clf.fit(X_train, y_train)\n",
    "        models.append(model)\n",
    "        accuracy_model.append(accuracy_score(y_test, model.predict(X_test), normalize=True)*100)\n",
    "        my_dict[nameOfColumn].extend(model.predict(X_test))\n",
    "    # write the highest accuracy model to file\n",
    "    if filename!=None:\n",
    "        for i in range (len(accuracy_model)):\n",
    "            if accuracy_model[i]>accuracy_model[max_id]:\n",
    "                max_id = i\n",
    "        export_model = models[max_id]\n",
    "        name = filename+'.pkl'\n",
    "        pickle.dump(export_model, open(name,'wb'))\n",
    "    return accuracy_model\n",
    "        \n",
    "def plot_function(accuracy, num_folds=10):\n",
    "    \"\"\"\n",
    "    This function plots and calculate the model accuracy\n",
    "    \"\"\"\n",
    "    list_of_fold_names = [\"fold\" + str(i) for i in range(num_folds)]\n",
    "    scores = pd.DataFrame(accuracy, columns = ['Scores'])\n",
    "    sns.set(style=\"dark\", rc={\"lines.linewidth\": 2})\n",
    "    sns.barplot(x=list_of_fold_names, y = \"Scores\", data=scores)\n",
    "    plt.show()\n",
    "    sns.set()\n",
    "    accuracy_summed = functools.reduce(lambda a,b: a + b, accuracy)\n",
    "    average_acc = accuracy_summed/num_folds\n",
    "    print(\"Average accuracy: \",average_acc)\n",
    "    return average_acc\n"
   ]
  },
  {
   "cell_type": "markdown",
   "metadata": {},
   "source": [
    "## SVM model"
   ]
  },
  {
   "cell_type": "code",
   "execution_count": null,
   "metadata": {
    "ExecuteTime": {
     "end_time": "2020-10-20T10:59:14.738228Z",
     "start_time": "2020-10-20T10:59:14.413137Z"
    }
   },
   "outputs": [],
   "source": [
    "svm_clf = BaggingClassifier(base_estimator = SVC(gamma = 'auto'), n_estimators = 3, random_state = 0)\n",
    "svm_accuracy_model = k_fold_classifier_acc_tester(svm_clf, intermediate_dict, \"SVM\", X, y, \"SVM\")\n",
    "print(svm_accuracy_model)\n",
    "svm_average_acc = plot_function(svm_accuracy_model)"
   ]
  },
  {
   "cell_type": "markdown",
   "metadata": {},
   "source": [
    "## LDA model"
   ]
  },
  {
   "cell_type": "code",
   "execution_count": null,
   "metadata": {
    "ExecuteTime": {
     "end_time": "2020-10-20T10:59:16.235895Z",
     "start_time": "2020-10-20T10:59:15.916486Z"
    }
   },
   "outputs": [],
   "source": [
    "lda_clf = BaggingClassifier(base_estimator = LinearDiscriminantAnalysis(), n_estimators = 4, random_state = 0)\n",
    "lda_accuracy_model = k_fold_classifier_acc_tester(lda_clf, intermediate_dict, \"LDA\", X, y,\"LDA\")\n",
    "print(lda_accuracy_model)\n",
    "lda_average_acc = plot_function(lda_accuracy_model)"
   ]
  },
  {
   "cell_type": "markdown",
   "metadata": {},
   "source": [
    "## KNN model"
   ]
  },
  {
   "cell_type": "code",
   "execution_count": null,
   "metadata": {
    "ExecuteTime": {
     "end_time": "2020-10-20T10:59:18.131008Z",
     "start_time": "2020-10-20T10:59:17.278982Z"
    }
   },
   "outputs": [],
   "source": [
    "average_accuracies_KNN = [] \n",
    "num_of_neighbors_to_try_to = 10\n",
    "for i in range(1, num_of_neighbors_to_try_to + 1):\n",
    "    accuracy_model = []\n",
    "    clf = KNeighborsClassifier(n_neighbors = i) \n",
    "\n",
    "    accuracy_model = k_fold_classifier_acc_tester(clf, {'KNN': []}, \"KNN\", X, y)\n",
    "    accuracy_summed = functools.reduce(lambda a,b: a + b, accuracy_model)\n",
    "\n",
    "    average_acc = accuracy_summed/num_folds\n",
    "    average_accuracies_KNN.append(average_acc)\n",
    "    \n",
    "max_ave = 0\n",
    "best_k_val = -1\n",
    "for i in range(len(average_accuracies_KNN)):\n",
    "    if max_ave < average_accuracies_KNN[i]:\n",
    "        max_ave = average_accuracies_KNN[i]\n",
    "        best_k_val = i + 1\n",
    "        \n",
    "print(best_k_val)"
   ]
  },
  {
   "cell_type": "code",
   "execution_count": null,
   "metadata": {
    "ExecuteTime": {
     "end_time": "2020-10-20T10:59:19.019022Z",
     "start_time": "2020-10-20T10:59:18.655352Z"
    }
   },
   "outputs": [],
   "source": [
    "knn_clf = BaggingClassifier(base_estimator = KNeighborsClassifier(n_neighbors = 5), n_estimators = 5, random_state = 0)\n",
    "knn_accuracy_model = k_fold_classifier_acc_tester(knn_clf, intermediate_dict, \"KNN\", X, y, \"KNN\")\n",
    "print(knn_accuracy_model)\n",
    "knn_average_acc = plot_function(knn_accuracy_model)"
   ]
  },
  {
   "cell_type": "markdown",
   "metadata": {},
   "source": [
    "## SVM 2 model"
   ]
  },
  {
   "cell_type": "code",
   "execution_count": null,
   "metadata": {
    "ExecuteTime": {
     "end_time": "2020-10-20T10:59:20.442613Z",
     "start_time": "2020-10-20T10:59:20.118531Z"
    }
   },
   "outputs": [],
   "source": [
    "intermediate_df = pd.DataFrame(intermediate_dict)\n",
    "svm_clf_2 = BaggingClassifier(base_estimator = SVC(kernel = 'rbf', gamma = 'auto'), n_estimators = 4, random_state = 0)\n",
    "svm_accuracy_model_2 = k_fold_classifier_acc_tester(svm_clf_2, {'NA':[]}, \"NA\", intermediate_df, y, \"SVM2\")\n",
    "print(svm_accuracy_model_2)\n",
    "svm_average_acc_2 = plot_function(svm_accuracy_model_2)"
   ]
  },
  {
   "cell_type": "markdown",
   "metadata": {},
   "source": [
    "## Voting model"
   ]
  },
  {
   "cell_type": "code",
   "execution_count": null,
   "metadata": {
    "ExecuteTime": {
     "end_time": "2020-10-20T10:59:21.944006Z",
     "start_time": "2020-10-20T10:59:21.941198Z"
    }
   },
   "outputs": [],
   "source": [
    "from sklearn.ensemble import RandomForestClassifier, VotingClassifier"
   ]
  },
  {
   "cell_type": "code",
   "execution_count": null,
   "metadata": {
    "ExecuteTime": {
     "end_time": "2020-10-20T10:59:23.176550Z",
     "start_time": "2020-10-20T10:59:22.486471Z"
    }
   },
   "outputs": [],
   "source": [
    "estimators = [('knn', knn_clf), ('svm', svm_clf), ('lda', lda_clf)]\n",
    "voting_clf = VotingClassifier(estimators = estimators, voting='hard')\n",
    "voting_accuracy_model = k_fold_classifier_acc_tester(voting_clf, {'NA':[]}, \"NA\", X, y, \"Voting\")\n",
    "print(voting_accuracy_model)\n",
    "voting_average_acc = plot_function(voting_accuracy_model)"
   ]
  },
  {
   "cell_type": "markdown",
   "metadata": {},
   "source": [
    "## Voting 2 model"
   ]
  },
  {
   "cell_type": "code",
   "execution_count": null,
   "metadata": {
    "ExecuteTime": {
     "end_time": "2020-10-20T10:59:24.754187Z",
     "start_time": "2020-10-20T10:59:24.171647Z"
    }
   },
   "outputs": [],
   "source": [
    "estimators = [('knn', knn_clf), ('svm', svm_clf), ('lda', lda_clf)]\n",
    "voting_clf_2 = VotingClassifier(estimators = estimators, voting='hard')\n",
    "voting_accuracy_model_2 = k_fold_classifier_acc_tester(voting_clf_2, {'NA':[]}, \"NA\", intermediate_df, y, \"Voting2\")\n",
    "print(voting_accuracy_model_2)\n",
    "voting2_average_acc = plot_function(voting_accuracy_model_2)"
   ]
  },
  {
   "cell_type": "markdown",
   "metadata": {},
   "source": [
    "## Accuracy Overview"
   ]
  },
  {
   "cell_type": "code",
   "execution_count": null,
   "metadata": {
    "ExecuteTime": {
     "end_time": "2020-10-20T10:59:26.234048Z",
     "start_time": "2020-10-20T10:59:25.965965Z"
    }
   },
   "outputs": [],
   "source": [
    "average_accuracy_dict = {'SVM': [svm_average_acc], 'LDA': [lda_average_acc], 'KNN': [knn_average_acc],'SVM_2': [svm_average_acc_2], 'voting':[voting_average_acc], 'voting_2':[voting2_average_acc]}\n",
    "average_acc_df = pd.DataFrame(average_accuracy_dict)\n",
    "print(\"The average accuracy: \\n\\n\",average_acc_df)\n",
    "accuracy_boxplot_dict = {'SVM': svm_accuracy_model, 'LDA': lda_accuracy_model, 'KNN': knn_accuracy_model, 'SVM_2': svm_accuracy_model_2 , 'voting':voting_accuracy_model, 'voting_2':voting_accuracy_model_2}\n",
    "boxplot_df = pd.DataFrame(accuracy_boxplot_dict)\n",
    "accuracy_boxplot = boxplot_df.boxplot(figsize=(10,8))\n",
    "boxplot_df"
   ]
  },
  {
   "cell_type": "markdown",
   "metadata": {},
   "source": [
    "# Test Accuracy on other dataset"
   ]
  },
  {
   "cell_type": "code",
   "execution_count": null,
   "metadata": {
    "ExecuteTime": {
     "end_time": "2020-10-20T10:59:30.246282Z",
     "start_time": "2020-10-20T10:59:27.339512Z"
    }
   },
   "outputs": [],
   "source": [
    "fname = \"updated_hungarian.xlsx\"\n",
    "dataframe = read_excel(fname, header = None, names=names)\n",
    "print(\"The origin data: \\n\\n\\n\",dataframe)\n",
    "\n",
    "\n",
    "# fill empty cell with NaN\n",
    "for i in range(dataframe.shape[0]):\n",
    "    for column in dataframe.columns:\n",
    "        if dataframe.at[i, column] == -9:\n",
    "            dataframe.loc[i, column] = np.nan\n",
    "# we fill NaN value with the mean of the column containning NaN\n",
    "df = dataframe.fillna(dataframe.mean())\n",
    "# we drop the column that contains all NaN value\n",
    "df = df.dropna(axis=1,how='all')\n",
    "print(\"\\n\\n\\nThe table after dealing with empty cell\\n\\ng\",df)\n",
    "\n",
    "\n",
    "# we drop dummy column because it is trestbps column, the others is not used for prediction\n",
    "df = df.drop(['dummy', 'id', 'ekgyr', 'ekgday', 'ekgmo', 'ccf', 'cmo', 'cday', 'cyr'], axis=1)\n",
    "print(\"\\n\\n\\nShape of the data after removing the unpredicted column\",df.shape)\n",
    "\n",
    "\n",
    "# returns a numpy array\n",
    "x = df.values\n",
    "df_temp = df\n",
    "# normalize data\n",
    "min_max_scaler = preprocessing.MinMaxScaler()\n",
    "min_max_scaler.fit(x)\n",
    "x_scaled = min_max_scaler.transform(x)\n",
    "df = pd.DataFrame(x_scaled, columns = df.columns)\n",
    "# make value in result column a 0,1. Turn it into binary classification\n",
    "df.loc[df[\"num\"] > 0, \"num\"] = 1\n",
    "print(\"After normalize the data\",df)"
   ]
  },
  {
   "cell_type": "code",
   "execution_count": null,
   "metadata": {
    "ExecuteTime": {
     "end_time": "2020-10-20T10:59:30.515251Z",
     "start_time": "2020-10-20T10:59:30.491774Z"
    }
   },
   "outputs": [],
   "source": [
    "X = df[features_to_use]\n",
    "y = df['num']\n",
    "X"
   ]
  },
  {
   "cell_type": "code",
   "execution_count": null,
   "metadata": {
    "ExecuteTime": {
     "end_time": "2020-10-20T11:20:32.683855Z",
     "start_time": "2020-10-20T11:20:32.544889Z"
    }
   },
   "outputs": [],
   "source": [
    "svm_clf_score = svm_clf.score(X, y) * 100\n",
    "lda_clf_score = lda_clf.score(X, y) * 100\n",
    "knn_clf_score = knn_clf.score(X, y) * 100\n",
    "voting_clf_score = voting_clf.score(X, y) * 100\n",
    "\n",
    "svm_clf_predictions = svm_clf.predict(X)\n",
    "lda_clf_predictions = lda_clf.predict(X)\n",
    "knn_clf_predictions = knn_clf.predict(X)\n",
    "voting_clf_prediction = voting_clf.predict(X)\n",
    "intermediate_dict = {'SVM': svm_clf_predictions, 'LDA': lda_clf_predictions, 'KNN': knn_clf_predictions}\n",
    "intermediate_df = pd.DataFrame(intermediate_dict)\n",
    "intermediate_df_copy = intermediate_df\n",
    "\n",
    "voting_clf_score2 = voting_clf_2.score(intermediate_df, y) * 100\n",
    "voting_clf_prediction_2 = voting_clf_2.predict(intermediate_df)\n",
    "\n",
    "svm_clf_score2 = svm_clf_2.score(intermediate_df,y) * 100\n",
    "svm_clf_predictions_2 = svm_clf_2.predict(intermediate_df)\n",
    "\n",
    "intermediate_dict['SVM_2'] = svm_clf_predictions_2\n",
    "intermediate_dict['voting'] = voting_clf_prediction\n",
    "intermediate_dict['voting_2'] = voting_clf_prediction_2\n",
    "\n",
    "intermediate_df = pd.DataFrame(intermediate_dict)\n",
    "\n",
    "models = {'SVM': svm_clf, 'LDA': lda_clf, 'KNN': knn_clf, 'SVM_2': svm_clf_2, 'voting': voting_clf, 'voting_2': voting_clf_2}\n",
    "\n",
    "print(\"svm accuracy score: \",svm_clf_score)\n",
    "print(\"lda accuracy score: \",lda_clf_score)\n",
    "print(\"knn accuracy score: \",knn_clf_score)\n",
    "print(\"svm 2 accuracy score: \",svm_clf_score2)\n",
    "print(\"voting accuracy score: \",voting_clf_score)\n",
    "print(\"voting 2 accuracy score: \",voting_clf_score2)"
   ]
  },
  {
   "cell_type": "code",
   "execution_count": null,
   "metadata": {
    "ExecuteTime": {
     "end_time": "2020-10-20T11:20:33.506440Z",
     "start_time": "2020-10-20T11:20:33.254447Z"
    }
   },
   "outputs": [],
   "source": [
    "accuracy_dict = {'SVM': [svm_average_acc], 'LDA': [lda_average_acc], 'KNN': [knn_average_acc], 'SVM_2': [svm_average_acc_2], 'voting':[voting_average_acc], 'voting_2':[voting2_average_acc],'SVM_other': [svm_clf_score], 'LDA_other': [lda_clf_score], 'KNN_other': [knn_clf_score], 'SVM_2_other': [svm_clf_score2], 'voting_other':[voting_clf_score], 'voting_2_other':[voting_clf_score2]}\n",
    "accuracy_df = pd.DataFrame(accuracy_dict)\n",
    "accuracy_df.plot.bar(figsize=(10,8))\n",
    "accuracy_df"
   ]
  },
  {
   "cell_type": "markdown",
   "metadata": {},
   "source": [
    "# Precision and Recall"
   ]
  },
  {
   "cell_type": "code",
   "execution_count": null,
   "metadata": {
    "ExecuteTime": {
     "end_time": "2020-10-20T11:20:34.505749Z",
     "start_time": "2020-10-20T11:20:34.500487Z"
    }
   },
   "outputs": [],
   "source": [
    "def recall_precision(predict, real):\n",
    "    true_positive = 0\n",
    "    false_positive = 0\n",
    "    false_negative = 0\n",
    "    for i in range (len(predict)):\n",
    "        if predict[i] == 1:\n",
    "            if real[i] == 1:\n",
    "                true_positive+=1\n",
    "            else:\n",
    "                false_positive+=1\n",
    "        else:\n",
    "            if real[i] == 1:\n",
    "                false_negative+=1\n",
    "    precision = true_positive/(true_positive+false_positive)\n",
    "    recall = true_positive/(true_positive+false_negative)\n",
    "    return precision, recall"
   ]
  },
  {
   "cell_type": "code",
   "execution_count": null,
   "metadata": {
    "ExecuteTime": {
     "end_time": "2020-10-20T11:20:35.116654Z",
     "start_time": "2020-10-20T11:20:35.102633Z"
    }
   },
   "outputs": [],
   "source": [
    "methods = intermediate_df.columns.values\n",
    "recall_precision_acc = {}\n",
    "for method in methods:\n",
    "    precision, recall = recall_precision(intermediate_dict[method],y.values)\n",
    "    recall_precision_acc[method] = [precision, recall]\n",
    "recall_precision_acc_df = pd.DataFrame(recall_precision_acc,index=['Precision','Recall'])\n",
    "recall_precision_acc_df\n",
    "    "
   ]
  },
  {
   "cell_type": "markdown",
   "metadata": {},
   "source": [
    "# AUCROC"
   ]
  },
  {
   "cell_type": "code",
   "execution_count": null,
   "metadata": {
    "ExecuteTime": {
     "end_time": "2020-10-20T11:39:58.544557Z",
     "start_time": "2020-10-20T11:39:58.212954Z"
    }
   },
   "outputs": [],
   "source": [
    "from sklearn.metrics import roc_curve, auc, roc_auc_score\n",
    "auc_dict = {}\n",
    "def auroc_score(method):\n",
    "    input_data = X\n",
    "    if method == 'SVM_2' or method == 'voting_2':\n",
    "        input_data = intermediate_df_copy\n",
    "    false_positive_rate, true_positive_rate, thresholds = roc_curve(y, models[method].predict(input_data))\n",
    "    auc_model = auc(false_positive_rate,true_positive_rate)*100\n",
    "    auc_roc_model = roc_auc_score(y, models[method].predict(input_data))*100\n",
    "    print('model '+method+' :'+'    auc:      ',auc_model,'\\n               auc_roc:  ',auc_roc_model)\n",
    "    \n",
    "    return auc_model\n",
    "\n",
    "for method in methods:\n",
    "    auc_dict[method] = [auroc_score(method)]\n",
    "auc_df = pd.DataFrame(auc_dict)\n",
    "auc_df.plot.bar(figsize=(8,8))\n",
    "auc_df"
   ]
  },
  {
   "cell_type": "code",
   "execution_count": null,
   "metadata": {},
   "outputs": [],
   "source": []
  }
 ],
 "metadata": {
  "kernelspec": {
   "display_name": "Python 3",
   "language": "python",
   "name": "python3"
  },
  "language_info": {
   "codemirror_mode": {
    "name": "ipython",
    "version": 3
   },
   "file_extension": ".py",
   "mimetype": "text/x-python",
   "name": "python",
   "nbconvert_exporter": "python",
   "pygments_lexer": "ipython3",
   "version": "3.7.1"
  },
  "toc": {
   "base_numbering": 1,
   "nav_menu": {},
   "number_sections": true,
   "sideBar": true,
   "skip_h1_title": false,
   "title_cell": "Table of Contents",
   "title_sidebar": "Contents",
   "toc_cell": false,
   "toc_position": {},
   "toc_section_display": true,
   "toc_window_display": false
  },
  "varInspector": {
   "cols": {
    "lenName": 16,
    "lenType": 16,
    "lenVar": 40
   },
   "kernels_config": {
    "python": {
     "delete_cmd_postfix": "",
     "delete_cmd_prefix": "del ",
     "library": "var_list.py",
     "varRefreshCmd": "print(var_dic_list())"
    },
    "r": {
     "delete_cmd_postfix": ") ",
     "delete_cmd_prefix": "rm(",
     "library": "var_list.r",
     "varRefreshCmd": "cat(var_dic_list()) "
    }
   },
   "types_to_exclude": [
    "module",
    "function",
    "builtin_function_or_method",
    "instance",
    "_Feature"
   ],
   "window_display": false
  }
 },
 "nbformat": 4,
 "nbformat_minor": 4
}
